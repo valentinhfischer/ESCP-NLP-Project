{
 "cells": [
  {
   "cell_type": "code",
   "execution_count": 285,
   "metadata": {},
   "outputs": [
    {
     "name": "stderr",
     "output_type": "stream",
     "text": [
      "Using TensorFlow backend.\n",
      "ERROR:root:Internal Python error in the inspect module.\n",
      "Below is the traceback from this internal error.\n",
      "\n"
     ]
    },
    {
     "name": "stdout",
     "output_type": "stream",
     "text": [
      "Traceback (most recent call last):\n",
      "  File \"//anaconda3/lib/python3.7/site-packages/IPython/core/interactiveshell.py\", line 3325, in run_code\n",
      "    exec(code_obj, self.user_global_ns, self.user_ns)\n",
      "  File \"<ipython-input-285-0704b62a1e6e>\", line 18, in <module>\n",
      "    import keras\n",
      "  File \"//anaconda3/lib/python3.7/site-packages/keras/__init__.py\", line 3, in <module>\n",
      "    from . import utils\n",
      "  File \"//anaconda3/lib/python3.7/site-packages/keras/utils/__init__.py\", line 6, in <module>\n",
      "    from . import conv_utils\n",
      "  File \"//anaconda3/lib/python3.7/site-packages/keras/utils/conv_utils.py\", line 9, in <module>\n",
      "    from .. import backend as K\n",
      "  File \"//anaconda3/lib/python3.7/site-packages/keras/backend/__init__.py\", line 1, in <module>\n",
      "    from .load_backend import epsilon\n",
      "  File \"//anaconda3/lib/python3.7/site-packages/keras/backend/load_backend.py\", line 90, in <module>\n",
      "    from .tensorflow_backend import *\n",
      "  File \"//anaconda3/lib/python3.7/site-packages/keras/backend/tensorflow_backend.py\", line 5, in <module>\n",
      "    import tensorflow as tf\n",
      "  File \"//anaconda3/lib/python3.7/site-packages/tensorflow/__init__.py\", line 101, in <module>\n",
      "    from tensorflow_core import *\n",
      "  File \"//anaconda3/lib/python3.7/site-packages/tensorflow_core/__init__.py\", line 40, in <module>\n",
      "    from tensorflow.python.tools import module_util as _module_util\n",
      "  File \"<frozen importlib._bootstrap>\", line 983, in _find_and_load\n",
      "  File \"<frozen importlib._bootstrap>\", line 959, in _find_and_load_unlocked\n",
      "  File \"//anaconda3/lib/python3.7/site-packages/tensorflow/__init__.py\", line 50, in __getattr__\n",
      "    module = self._load()\n",
      "  File \"//anaconda3/lib/python3.7/site-packages/tensorflow/__init__.py\", line 44, in _load\n",
      "    module = _importlib.import_module(self.__name__)\n",
      "  File \"//anaconda3/lib/python3.7/importlib/__init__.py\", line 127, in import_module\n",
      "    return _bootstrap._gcd_import(name[level:], package, level)\n",
      "  File \"//anaconda3/lib/python3.7/site-packages/tensorflow_core/python/__init__.py\", line 64, in <module>\n",
      "    from tensorflow.core.framework.graph_pb2 import *\n",
      "  File \"//anaconda3/lib/python3.7/site-packages/tensorflow_core/core/framework/graph_pb2.py\", line 7, in <module>\n",
      "    from google.protobuf import descriptor as _descriptor\n",
      "  File \"//anaconda3/lib/python3.7/site-packages/google/protobuf/__init__.py\", line 37, in <module>\n",
      "    __import__('pkg_resources').declare_namespace(__name__)\n",
      "  File \"//anaconda3/lib/python3.7/site-packages/pkg_resources/__init__.py\", line 83, in <module>\n",
      "    __import__('pkg_resources.extern.packaging.specifiers')\n",
      "  File \"//anaconda3/lib/python3.7/site-packages/pkg_resources/_vendor/packaging/specifiers.py\", line 275, in <module>\n",
      "    class Specifier(_IndividualSpecifier):\n",
      "  File \"//anaconda3/lib/python3.7/site-packages/pkg_resources/_vendor/packaging/specifiers.py\", line 373, in Specifier\n",
      "    r\"^\\s*\" + _regex_str + r\"\\s*$\", re.VERBOSE | re.IGNORECASE)\n",
      "  File \"//anaconda3/lib/python3.7/re.py\", line 234, in compile\n",
      "    return _compile(pattern, flags)\n",
      "  File \"//anaconda3/lib/python3.7/re.py\", line 286, in _compile\n",
      "    p = sre_compile.compile(pattern, flags)\n",
      "  File \"//anaconda3/lib/python3.7/sre_compile.py\", line 764, in compile\n",
      "    p = sre_parse.parse(p, flags)\n",
      "  File \"//anaconda3/lib/python3.7/sre_parse.py\", line 930, in parse\n",
      "    p = _parse_sub(source, pattern, flags & SRE_FLAG_VERBOSE, 0)\n",
      "  File \"//anaconda3/lib/python3.7/sre_parse.py\", line 426, in _parse_sub\n",
      "    not nested and not items))\n",
      "  File \"//anaconda3/lib/python3.7/sre_parse.py\", line 821, in _parse\n",
      "    state.closegroup(group, p)\n",
      "  File \"//anaconda3/lib/python3.7/sre_parse.py\", line 97, in closegroup\n",
      "    self.groupwidths[gid] = p.getwidth()\n",
      "  File \"//anaconda3/lib/python3.7/sre_parse.py\", line 184, in getwidth\n",
      "    l, h = av.getwidth()\n",
      "  File \"//anaconda3/lib/python3.7/sre_parse.py\", line 198, in getwidth\n",
      "    i, j = av[2].getwidth()\n",
      "  File \"//anaconda3/lib/python3.7/sre_parse.py\", line 184, in getwidth\n",
      "    l, h = av.getwidth()\n",
      "  File \"//anaconda3/lib/python3.7/sre_parse.py\", line 198, in getwidth\n",
      "    i, j = av[2].getwidth()\n",
      "  File \"//anaconda3/lib/python3.7/sre_parse.py\", line 198, in getwidth\n",
      "    i, j = av[2].getwidth()\n",
      "  File \"//anaconda3/lib/python3.7/sre_parse.py\", line 198, in getwidth\n",
      "    i, j = av[2].getwidth()\n",
      "  File \"//anaconda3/lib/python3.7/sre_parse.py\", line 220, in getwidth\n",
      "    self.width = min(lo, MAXREPEAT - 1), min(hi, MAXREPEAT)\n",
      "KeyboardInterrupt\n",
      "\n",
      "During handling of the above exception, another exception occurred:\n",
      "\n",
      "Traceback (most recent call last):\n",
      "  File \"//anaconda3/lib/python3.7/site-packages/IPython/core/interactiveshell.py\", line 2039, in showtraceback\n",
      "    stb = value._render_traceback_()\n",
      "AttributeError: 'KeyboardInterrupt' object has no attribute '_render_traceback_'\n",
      "\n",
      "During handling of the above exception, another exception occurred:\n",
      "\n",
      "Traceback (most recent call last):\n",
      "  File \"//anaconda3/lib/python3.7/site-packages/IPython/core/ultratb.py\", line 1101, in get_records\n",
      "    return _fixed_getinnerframes(etb, number_of_lines_of_context, tb_offset)\n",
      "  File \"//anaconda3/lib/python3.7/site-packages/IPython/core/ultratb.py\", line 319, in wrapped\n",
      "    return f(*args, **kwargs)\n",
      "  File \"//anaconda3/lib/python3.7/site-packages/IPython/core/ultratb.py\", line 353, in _fixed_getinnerframes\n",
      "    records = fix_frame_records_filenames(inspect.getinnerframes(etb, context))\n",
      "  File \"//anaconda3/lib/python3.7/inspect.py\", line 1502, in getinnerframes\n",
      "    frameinfo = (tb.tb_frame,) + getframeinfo(tb, context)\n",
      "  File \"//anaconda3/lib/python3.7/inspect.py\", line 1460, in getframeinfo\n",
      "    filename = getsourcefile(frame) or getfile(frame)\n",
      "  File \"//anaconda3/lib/python3.7/inspect.py\", line 696, in getsourcefile\n",
      "    if getattr(getmodule(object, filename), '__loader__', None) is not None:\n",
      "  File \"//anaconda3/lib/python3.7/inspect.py\", line 733, in getmodule\n",
      "    if ismodule(module) and hasattr(module, '__file__'):\n",
      "  File \"//anaconda3/lib/python3.7/site-packages/tensorflow/__init__.py\", line 50, in __getattr__\n",
      "    module = self._load()\n",
      "  File \"//anaconda3/lib/python3.7/site-packages/tensorflow/__init__.py\", line 44, in _load\n",
      "    module = _importlib.import_module(self.__name__)\n",
      "  File \"//anaconda3/lib/python3.7/importlib/__init__.py\", line 127, in import_module\n",
      "    return _bootstrap._gcd_import(name[level:], package, level)\n",
      "  File \"<frozen importlib._bootstrap>\", line 1006, in _gcd_import\n",
      "  File \"<frozen importlib._bootstrap>\", line 983, in _find_and_load\n",
      "  File \"<frozen importlib._bootstrap>\", line 953, in _find_and_load_unlocked\n",
      "  File \"<frozen importlib._bootstrap>\", line 219, in _call_with_frames_removed\n",
      "  File \"<frozen importlib._bootstrap>\", line 1006, in _gcd_import\n",
      "  File \"<frozen importlib._bootstrap>\", line 983, in _find_and_load\n",
      "  File \"<frozen importlib._bootstrap>\", line 967, in _find_and_load_unlocked\n",
      "  File \"<frozen importlib._bootstrap>\", line 677, in _load_unlocked\n",
      "  File \"<frozen importlib._bootstrap_external>\", line 728, in exec_module\n",
      "  File \"<frozen importlib._bootstrap>\", line 219, in _call_with_frames_removed\n",
      "  File \"//anaconda3/lib/python3.7/site-packages/tensorflow_core/__init__.py\", line 42, in <module>\n",
      "    from . _api.v2 import audio\n",
      "  File \"//anaconda3/lib/python3.7/site-packages/tensorflow_core/_api/v2/audio/__init__.py\", line 10, in <module>\n",
      "    from tensorflow.python.ops.gen_audio_ops import decode_wav\n",
      "  File \"//anaconda3/lib/python3.7/site-packages/tensorflow_core/python/ops/gen_audio_ops.py\", line 10, in <module>\n",
      "    from tensorflow.python.eager import context as _context\n",
      "  File \"//anaconda3/lib/python3.7/site-packages/tensorflow_core/python/eager/context.py\", line 32, in <module>\n",
      "    from tensorflow.python import tf2\n",
      "  File \"//anaconda3/lib/python3.7/site-packages/tensorflow/__init__.py\", line 50, in __getattr__\n",
      "    module = self._load()\n",
      "  File \"//anaconda3/lib/python3.7/site-packages/tensorflow/__init__.py\", line 44, in _load\n",
      "    module = _importlib.import_module(self.__name__)\n",
      "  File \"//anaconda3/lib/python3.7/importlib/__init__.py\", line 127, in import_module\n",
      "    return _bootstrap._gcd_import(name[level:], package, level)\n",
      "  File \"//anaconda3/lib/python3.7/site-packages/tensorflow_core/python/__init__.py\", line 148, in <module>\n",
      "    from tensorflow.python.eager.context import executing_eagerly\n",
      "ImportError: cannot import name 'executing_eagerly' from 'tensorflow.python.eager.context' (//anaconda3/lib/python3.7/site-packages/tensorflow_core/python/eager/context.py)\n"
     ]
    },
    {
     "ename": "KeyboardInterrupt",
     "evalue": "",
     "output_type": "error",
     "traceback": [
      "\u001b[0;31m---------------------------------------------------------------------------\u001b[0m"
     ]
    }
   ],
   "source": [
    "import os\n",
    "import numpy as np\n",
    "from scipy.sparse import csc_matrix, save_npz, load_npz\n",
    "import re\n",
    "import pickle\n",
    "import pandas as pd\n",
    "from datetime import datetime\n",
    "from gensim.corpora import Dictionary\n",
    "from nltk.tokenize import TweetTokenizer\n",
    "from sklearn.preprocessing import LabelBinarizer, OneHotEncoder, LabelEncoder\n",
    "from nltk.stem import PorterStemmer\n",
    "import matplotlib.pyplot as plt\n",
    "from nltk.stem.snowball import SnowballStemmer\n",
    "import nltk\n",
    "from bs4 import BeautifulSoup\n",
    "from contractions import contractions_dict\n",
    "import unicodedata"
   ]
  },
  {
   "cell_type": "code",
   "execution_count": 79,
   "metadata": {},
   "outputs": [],
   "source": [
    "# 18 fields expected.\n",
    "field_names = ['id', 'type', 'is_best_answer', 'topic_id', 'parent_id', 'votes',\n",
    "               'title', 'content', 'member', 'category', 'state', 'is_solved', 'num_answers',\n",
    "               'country', 'date', 'last_answer_date', 'author_crc', 'visits']"
   ]
  },
  {
   "cell_type": "code",
   "execution_count": null,
   "metadata": {},
   "outputs": [],
   "source": []
  },
  {
   "cell_type": "markdown",
   "metadata": {},
   "source": [
    "# Read in data"
   ]
  },
  {
   "cell_type": "code",
   "execution_count": 475,
   "metadata": {},
   "outputs": [
    {
     "name": "stderr",
     "output_type": "stream",
     "text": [
      "b'Skipping line 82773: expected 18 fields, saw 19\\n'\n",
      "b'Skipping line 148296: expected 18 fields, saw 19\\nSkipping line 150160: expected 18 fields, saw 22\\n'\n",
      "b'Skipping line 208596: expected 18 fields, saw 19\\nSkipping line 221196: expected 18 fields, saw 19\\n'\n",
      "b'Skipping line 289838: expected 18 fields, saw 19\\n'\n",
      "b'Skipping line 303102: expected 18 fields, saw 19\\nSkipping line 303252: expected 18 fields, saw 20\\nSkipping line 303253: expected 18 fields, saw 19\\nSkipping line 303254: expected 18 fields, saw 21\\nSkipping line 303433: expected 18 fields, saw 19\\nSkipping line 303453: expected 18 fields, saw 21\\nSkipping line 303474: expected 18 fields, saw 19\\nSkipping line 318882: expected 18 fields, saw 19\\n'\n",
      "b'Skipping line 341159: expected 18 fields, saw 19\\n'\n",
      "b'Skipping line 373321: expected 18 fields, saw 19\\nSkipping line 374230: expected 18 fields, saw 20\\nSkipping line 374231: expected 18 fields, saw 27\\n'\n",
      "b'Skipping line 399960: expected 18 fields, saw 19\\nSkipping line 415105: expected 18 fields, saw 19\\nSkipping line 418141: expected 18 fields, saw 24\\n'\n",
      "b'Skipping line 436478: expected 18 fields, saw 22\\nSkipping line 436486: expected 18 fields, saw 22\\nSkipping line 441923: expected 18 fields, saw 20\\nSkipping line 443017: expected 18 fields, saw 28\\nSkipping line 447627: expected 18 fields, saw 26\\n'\n",
      "b'Skipping line 461439: expected 18 fields, saw 19\\nSkipping line 461440: expected 18 fields, saw 19\\nSkipping line 466365: expected 18 fields, saw 19\\nSkipping line 466366: expected 18 fields, saw 19\\nSkipping line 472158: expected 18 fields, saw 19\\nSkipping line 479622: expected 18 fields, saw 20\\nSkipping line 487300: expected 18 fields, saw 29\\n'\n",
      "b'Skipping line 493759: expected 18 fields, saw 20\\nSkipping line 519531: expected 18 fields, saw 20\\nSkipping line 519532: expected 18 fields, saw 20\\nSkipping line 522791: expected 18 fields, saw 19\\n'\n",
      "b'Skipping line 530650: expected 18 fields, saw 20\\nSkipping line 530659: expected 18 fields, saw 19\\nSkipping line 536146: expected 18 fields, saw 19\\nSkipping line 547871: expected 18 fields, saw 19\\nSkipping line 549682: expected 18 fields, saw 20\\nSkipping line 552624: expected 18 fields, saw 21\\nSkipping line 553451: expected 18 fields, saw 19\\nSkipping line 553452: expected 18 fields, saw 19\\nSkipping line 553453: expected 18 fields, saw 19\\nSkipping line 553454: expected 18 fields, saw 19\\nSkipping line 553455: expected 18 fields, saw 19\\nSkipping line 553456: expected 18 fields, saw 19\\nSkipping line 555174: expected 18 fields, saw 21\\n'\n",
      "b'Skipping line 561339: expected 18 fields, saw 19\\nSkipping line 568390: expected 18 fields, saw 19\\n'\n",
      "b'Skipping line 606401: expected 18 fields, saw 19\\nSkipping line 614834: expected 18 fields, saw 19\\nSkipping line 614835: expected 18 fields, saw 19\\nSkipping line 614836: expected 18 fields, saw 19\\n'\n",
      "b'Skipping line 623805: expected 18 fields, saw 21\\nSkipping line 625348: expected 18 fields, saw 19\\nSkipping line 625970: expected 18 fields, saw 19\\nSkipping line 626219: expected 18 fields, saw 19\\nSkipping line 626409: expected 18 fields, saw 21\\nSkipping line 626979: expected 18 fields, saw 22\\nSkipping line 626981: expected 18 fields, saw 23\\nSkipping line 627630: expected 18 fields, saw 19\\nSkipping line 627633: expected 18 fields, saw 20\\nSkipping line 628565: expected 18 fields, saw 20\\nSkipping line 629230: expected 18 fields, saw 19\\nSkipping line 629379: expected 18 fields, saw 21\\nSkipping line 629380: expected 18 fields, saw 21\\nSkipping line 629381: expected 18 fields, saw 21\\nSkipping line 629415: expected 18 fields, saw 43\\nSkipping line 629567: expected 18 fields, saw 21\\nSkipping line 629578: expected 18 fields, saw 20\\nSkipping line 629637: expected 18 fields, saw 28\\nSkipping line 630195: expected 18 fields, saw 19\\nSkipping line 630583: expected 18 fields, saw 19\\nSkipping line 630661: expected 18 fields, saw 31\\nSkipping line 630785: expected 18 fields, saw 19\\nSkipping line 630811: expected 18 fields, saw 22\\nSkipping line 630969: expected 18 fields, saw 19\\nSkipping line 631319: expected 18 fields, saw 19\\nSkipping line 631514: expected 18 fields, saw 19\\nSkipping line 631725: expected 18 fields, saw 20\\nSkipping line 632093: expected 18 fields, saw 32\\nSkipping line 632261: expected 18 fields, saw 19\\nSkipping line 633134: expected 18 fields, saw 20\\nSkipping line 633743: expected 18 fields, saw 21\\nSkipping line 634972: expected 18 fields, saw 21\\nSkipping line 635432: expected 18 fields, saw 20\\nSkipping line 636307: expected 18 fields, saw 19\\nSkipping line 636410: expected 18 fields, saw 19\\nSkipping line 636821: expected 18 fields, saw 26\\nSkipping line 637123: expected 18 fields, saw 20\\nSkipping line 637143: expected 18 fields, saw 21\\nSkipping line 637180: expected 18 fields, saw 23\\nSkipping line 637428: expected 18 fields, saw 19\\nSkipping line 637823: expected 18 fields, saw 21\\nSkipping line 638019: expected 18 fields, saw 19\\nSkipping line 638880: expected 18 fields, saw 19\\nSkipping line 639880: expected 18 fields, saw 21\\nSkipping line 640460: expected 18 fields, saw 20\\nSkipping line 640692: expected 18 fields, saw 21\\nSkipping line 641658: expected 18 fields, saw 19\\nSkipping line 642622: expected 18 fields, saw 19\\nSkipping line 642734: expected 18 fields, saw 23\\nSkipping line 642781: expected 18 fields, saw 21\\nSkipping line 642811: expected 18 fields, saw 19\\nSkipping line 643547: expected 18 fields, saw 19\\nSkipping line 644022: expected 18 fields, saw 23\\nSkipping line 644164: expected 18 fields, saw 21\\nSkipping line 644818: expected 18 fields, saw 20\\nSkipping line 645129: expected 18 fields, saw 22\\nSkipping line 645212: expected 18 fields, saw 19\\nSkipping line 645694: expected 18 fields, saw 19\\nSkipping line 645697: expected 18 fields, saw 19\\nSkipping line 645708: expected 18 fields, saw 19\\nSkipping line 645709: expected 18 fields, saw 19\\nSkipping line 646184: expected 18 fields, saw 20\\nSkipping line 646927: expected 18 fields, saw 20\\nSkipping line 647151: expected 18 fields, saw 21\\nSkipping line 647422: expected 18 fields, saw 36\\nSkipping line 647520: expected 18 fields, saw 21\\nSkipping line 647852: expected 18 fields, saw 19\\nSkipping line 647945: expected 18 fields, saw 19\\nSkipping line 648497: expected 18 fields, saw 20\\nSkipping line 648499: expected 18 fields, saw 20\\nSkipping line 648593: expected 18 fields, saw 19\\nSkipping line 648663: expected 18 fields, saw 19\\nSkipping line 649689: expected 18 fields, saw 20\\nSkipping line 651119: expected 18 fields, saw 19\\nSkipping line 651477: expected 18 fields, saw 19\\nSkipping line 651569: expected 18 fields, saw 20\\nSkipping line 651739: expected 18 fields, saw 20\\nSkipping line 652050: expected 18 fields, saw 24\\nSkipping line 652054: expected 18 fields, saw 19\\nSkipping line 652077: expected 18 fields, saw 20\\nSkipping line 652090: expected 18 fields, saw 19\\nSkipping line 652576: expected 18 fields, saw 21\\nSkipping line 652718: expected 18 fields, saw 21\\nSkipping line 652872: expected 18 fields, saw 19\\nSkipping line 653315: expected 18 fields, saw 21\\nSkipping line 654563: expected 18 fields, saw 19\\nSkipping line 655279: expected 18 fields, saw 20\\nSkipping line 655280: expected 18 fields, saw 20\\n'\n",
      "b'Skipping line 655792: expected 18 fields, saw 20\\nSkipping line 656511: expected 18 fields, saw 19\\nSkipping line 656955: expected 18 fields, saw 21\\nSkipping line 657770: expected 18 fields, saw 19\\nSkipping line 657795: expected 18 fields, saw 20\\nSkipping line 658090: expected 18 fields, saw 19\\nSkipping line 658279: expected 18 fields, saw 19\\nSkipping line 673174: expected 18 fields, saw 20\\nSkipping line 682911: expected 18 fields, saw 21\\nSkipping line 682914: expected 18 fields, saw 22\\nSkipping line 682915: expected 18 fields, saw 25\\n'\n",
      "b'Skipping line 700798: expected 18 fields, saw 20\\nSkipping line 702433: expected 18 fields, saw 19\\nSkipping line 705001: expected 18 fields, saw 19\\n'\n",
      "b'Skipping line 728095: expected 18 fields, saw 23\\nSkipping line 733386: expected 18 fields, saw 20\\nSkipping line 734485: expected 18 fields, saw 19\\nSkipping line 734487: expected 18 fields, saw 19\\nSkipping line 734490: expected 18 fields, saw 20\\nSkipping line 734491: expected 18 fields, saw 19\\nSkipping line 740815: expected 18 fields, saw 19\\nSkipping line 740816: expected 18 fields, saw 19\\n'\n"
     ]
    },
    {
     "name": "stderr",
     "output_type": "stream",
     "text": [
      "//anaconda3/lib/python3.7/site-packages/IPython/core/interactiveshell.py:3057: DtypeWarning: Columns (0,2,3,4,5,8,9,10,11,12,14,15,16,17) have mixed types. Specify dtype option on import or set low_memory=False.\n",
      "  interactivity=interactivity, compiler=compiler, result=result)\n"
     ]
    }
   ],
   "source": [
    "df = pd.read_csv('export-forums_en.csv', error_bad_lines=False)"
   ]
  },
  {
   "cell_type": "code",
   "execution_count": 476,
   "metadata": {},
   "outputs": [],
   "source": [
    "df.columns = ['id', 'type', 'is_best_answer', 'topic_id', 'parent_id', 'votes',\n",
    "               'title', 'content', 'member', 'category', 'state', 'is_solved', 'num_answers',\n",
    "               'country', 'date', 'last_answer_date', 'author_crc', 'visits']"
   ]
  },
  {
   "cell_type": "code",
   "execution_count": 477,
   "metadata": {},
   "outputs": [],
   "source": [
    "#remove comments\n",
    "df_QA = df[df['type']!='C']"
   ]
  },
  {
   "cell_type": "code",
   "execution_count": 478,
   "metadata": {},
   "outputs": [
    {
     "data": {
      "text/plain": [
       "634600"
      ]
     },
     "execution_count": 478,
     "metadata": {},
     "output_type": "execute_result"
    }
   ],
   "source": [
    "len(df_QA)"
   ]
  },
  {
   "cell_type": "markdown",
   "metadata": {},
   "source": [
    "# Clean Data"
   ]
  },
  {
   "cell_type": "code",
   "execution_count": 287,
   "metadata": {},
   "outputs": [],
   "source": [
    "import numpy as np\n",
    "import pandas as pd\n",
    "import re\n",
    "from gensim.corpora import Dictionary\n",
    "from nltk.tokenize import TweetTokenizer\n",
    "from sklearn.preprocessing import LabelBinarizer, OneHotEncoder, LabelEncoder\n",
    "from nltk.stem import PorterStemmer\n",
    "from nltk.stem.snowball import SnowballStemmer\n",
    "import nltk\n",
    "from bs4 import BeautifulSoup\n",
    "from contractions import contractions_dict\n",
    "import unicodedata"
   ]
  },
  {
   "cell_type": "code",
   "execution_count": 480,
   "metadata": {},
   "outputs": [],
   "source": [
    "def clean_data():\n",
    "    pd.options.mode.chained_assignment = None  # default='warn'\n",
    "    stemmer = SnowballStemmer(\"english\")\n",
    "    stop = nltk.corpus.stopwords.words('english')\n",
    "    stop.remove('no')\n",
    "    stop.remove('not')\n",
    "    stop.remove('but')\n",
    "    stop.append(\"br\")\n",
    "    stop.append(\"n\")\n",
    "    toktok = nltk.tokenize.toktok.ToktokTokenizer()\n",
    "    def expand_contractions(text, contraction_mapping=contractions_dict):\n",
    "    \n",
    "        contractions_pattern = re.compile('({})'.format('|'.join(contraction_mapping.keys())), \n",
    "                                          flags=re.IGNORECASE|re.DOTALL)\n",
    "        def expand_match(contraction):\n",
    "            match = contraction.group(0)\n",
    "            first_char = match[0]\n",
    "            expanded_contraction = contraction_mapping.get(match)\\\n",
    "                                    if contraction_mapping.get(match)\\\n",
    "                                    else contraction_mapping.get(match.lower())  \n",
    "            if expanded_contraction is None:\n",
    "                expanded_contraction=\"\"\n",
    "            else:\n",
    "                expanded_contraction = first_char+expanded_contraction[1:]\n",
    "            return expanded_contraction\n",
    "\n",
    "        expanded_text = contractions_pattern.sub(expand_match, text)\n",
    "        expanded_text = re.sub(\"'\", \"\", expanded_text)\n",
    "        return expanded_text\n",
    "    def remove_accented_chars(text):\n",
    "        text = unicodedata.normalize('NFKD', text).encode('ascii', 'ignore').decode('utf-8', 'ignore')\n",
    "        return text\n",
    "    \n",
    "    df_QA['content'] = df['content'].astype(str)\n",
    "    #for col_name in [\"title\", \"question\", \"answer\", \"comments\"]:\n",
    "        #delete html text/format\n",
    "    df_QA['content'] = df_QA['content'].apply(lambda x: BeautifulSoup(x, 'html.parser').get_text())\n",
    "        #remove accented characters eg. \"Sómě Áccěntěd těxt\" to \"Some Accented text\"\n",
    "    df_QA['content'] = df_QA['content'].apply(lambda x: remove_accented_chars(x))\n",
    "        # expand contracted words eg. \"we'll\" to \"we all\", \"you're\" to \"you are\"\n",
    "    df_QA['content'] = df_QA['content'].apply(lambda x: expand_contractions(str(x)))\n",
    "        # delete puntuations\n",
    "    df_QA['content'].replace('[!\"#%\\'()*+,-./:;<=>?@\\[\\]^_`{|}~’”“′‘\\\\\\]',' ',inplace=True,regex=True)\n",
    "        #delete numbers and certain formats and lowercase\n",
    "    df_QA['cleaned_content'] = df_QA['content'].apply(lambda x: re.sub(r'[^a-zA-z\\s]', ' ', x).lower())\n",
    "        #delete redundant whitespace\n",
    "    df_QA['cleaned_content'] = df_QA['cleaned_content'].apply(lambda x: re.sub(' +', ' ', x))\n",
    "        #tokenizer\n",
    "    df_QA['cleaned_content'] = df_QA['cleaned_content'].apply(toktok.tokenize)\n",
    "        # stemmer words and remove stop words\n",
    "    #df_QA['content'] = df_QA['content'].apply(lambda x: [stemmer.stem(word) for word in x if word not in stop])\n",
    "    df_QA['cleaned_content'] = df_QA['cleaned_content'].apply(lambda x: [word for word in x if word not in stop])\n",
    "        #add whitespace between words\n",
    "    df_QA['cleaned_content'] = df_QA['cleaned_content'].apply(lambda x: \" \".join(x))\n",
    "        #deal none type and empty value\n",
    "        #df[col_name] = df[col_name].apply(lambda x: \"\" if x ==\" \" else (\"\" if x is None else x))\n",
    "    # combine question and title content together as question\n",
    "    #df[\"question\"]=df[\"title\"]+\" \"+df[\"question\"]\n",
    "    #df.drop([\"title\"],axis=1,inplace=True)\n",
    "    df_QA.to_csv('cleaned',index=False)\n"
   ]
  },
  {
   "cell_type": "code",
   "execution_count": 481,
   "metadata": {},
   "outputs": [
    {
     "name": "stderr",
     "output_type": "stream",
     "text": [
      "//anaconda3/lib/python3.7/site-packages/bs4/__init__.py:375: UserWarning: \"http://pcsupport.about.com/od/fixtheproblem/ht/repairbootini.htm\" looks like a URL. Beautiful Soup is not an HTTP client. You should probably use an HTTP client like requests to get the document behind the URL, and feed that document to Beautiful Soup.\n",
      "  ' that document to Beautiful Soup.' % decoded_markup\n",
      "//anaconda3/lib/python3.7/site-packages/bs4/__init__.py:375: UserWarning: \"http://usb-fix.blogspot.com.ar/\" looks like a URL. Beautiful Soup is not an HTTP client. You should probably use an HTTP client like requests to get the document behind the URL, and feed that document to Beautiful Soup.\n",
      "  ' that document to Beautiful Soup.' % decoded_markup\n",
      "//anaconda3/lib/python3.7/site-packages/bs4/__init__.py:375: UserWarning: \"http://www.bilgindir.com/spor-yaris/1518-need-speed-run-limited-edition-2011-clone-dvd-full-indir.html#post2116\" looks like a URL. Beautiful Soup is not an HTTP client. You should probably use an HTTP client like requests to get the document behind the URL, and feed that document to Beautiful Soup.\n",
      "  ' that document to Beautiful Soup.' % decoded_markup\n",
      "//anaconda3/lib/python3.7/site-packages/bs4/__init__.py:302: UserWarning: \"b'..'\" looks like a filename, not markup. You should probably open this file and pass the filehandle into Beautiful Soup.\n",
      "  ' Beautiful Soup.' % markup)\n",
      "//anaconda3/lib/python3.7/site-packages/bs4/__init__.py:375: UserWarning: \"http://etechorb.blogspot.com/\" looks like a URL. Beautiful Soup is not an HTTP client. You should probably use an HTTP client like requests to get the document behind the URL, and feed that document to Beautiful Soup.\n",
      "  ' that document to Beautiful Soup.' % decoded_markup\n",
      "//anaconda3/lib/python3.7/site-packages/bs4/__init__.py:375: UserWarning: \"http://www.opendoortechnologies.com\" looks like a URL. Beautiful Soup is not an HTTP client. You should probably use an HTTP client like requests to get the document behind the URL, and feed that document to Beautiful Soup.\n",
      "  ' that document to Beautiful Soup.' % decoded_markup\n",
      "//anaconda3/lib/python3.7/site-packages/bs4/__init__.py:302: UserWarning: \"b'.'\" looks like a filename, not markup. You should probably open this file and pass the filehandle into Beautiful Soup.\n",
      "  ' Beautiful Soup.' % markup)\n",
      "//anaconda3/lib/python3.7/site-packages/bs4/__init__.py:375: UserWarning: \"http://x-profit.com/\" looks like a URL. Beautiful Soup is not an HTTP client. You should probably use an HTTP client like requests to get the document behind the URL, and feed that document to Beautiful Soup.\n",
      "  ' that document to Beautiful Soup.' % decoded_markup\n",
      "//anaconda3/lib/python3.7/site-packages/bs4/__init__.py:375: UserWarning: \"https://www.facebook.com/CompuExBH\" looks like a URL. Beautiful Soup is not an HTTP client. You should probably use an HTTP client like requests to get the document behind the URL, and feed that document to Beautiful Soup.\n",
      "  ' that document to Beautiful Soup.' % decoded_markup\n",
      "//anaconda3/lib/python3.7/site-packages/bs4/__init__.py:375: UserWarning: \"http://www.bntksa4.com\" looks like a URL. Beautiful Soup is not an HTTP client. You should probably use an HTTP client like requests to get the document behind the URL, and feed that document to Beautiful Soup.\n",
      "  ' that document to Beautiful Soup.' % decoded_markup\n",
      "//anaconda3/lib/python3.7/site-packages/bs4/__init__.py:375: UserWarning: \"http://jobsz.in\" looks like a URL. Beautiful Soup is not an HTTP client. You should probably use an HTTP client like requests to get the document behind the URL, and feed that document to Beautiful Soup.\n",
      "  ' that document to Beautiful Soup.' % decoded_markup\n",
      "//anaconda3/lib/python3.7/site-packages/bs4/__init__.py:375: UserWarning: \"http://sql-delta.software.informer.com/4.1/\" looks like a URL. Beautiful Soup is not an HTTP client. You should probably use an HTTP client like requests to get the document behind the URL, and feed that document to Beautiful Soup.\n",
      "  ' that document to Beautiful Soup.' % decoded_markup\n",
      "//anaconda3/lib/python3.7/site-packages/bs4/__init__.py:375: UserWarning: \"http://www.keepautomation.com/products/java_barcode/barcodes/code_128.html\" looks like a URL. Beautiful Soup is not an HTTP client. You should probably use an HTTP client like requests to get the document behind the URL, and feed that document to Beautiful Soup.\n",
      "  ' that document to Beautiful Soup.' % decoded_markup\n",
      "//anaconda3/lib/python3.7/site-packages/bs4/__init__.py:375: UserWarning: \"http://www.keepautomation.com/products/net_barcode/barcodes/data_matrix.html\" looks like a URL. Beautiful Soup is not an HTTP client. You should probably use an HTTP client like requests to get the document behind the URL, and feed that document to Beautiful Soup.\n",
      "  ' that document to Beautiful Soup.' % decoded_markup\n",
      "//anaconda3/lib/python3.7/site-packages/bs4/__init__.py:375: UserWarning: \"http://www.avapose.com/vbnet_barcode/upca_generator.shtml\" looks like a URL. Beautiful Soup is not an HTTP client. You should probably use an HTTP client like requests to get the document behind the URL, and feed that document to Beautiful Soup.\n",
      "  ' that document to Beautiful Soup.' % decoded_markup\n",
      "//anaconda3/lib/python3.7/site-packages/bs4/__init__.py:375: UserWarning: \"http://www.tera999.com/gold.html\" looks like a URL. Beautiful Soup is not an HTTP client. You should probably use an HTTP client like requests to get the document behind the URL, and feed that document to Beautiful Soup.\n",
      "  ' that document to Beautiful Soup.' % decoded_markup\n",
      "//anaconda3/lib/python3.7/site-packages/bs4/__init__.py:375: UserWarning: \"http://youtu.be/oRN7rfg_y8I\" looks like a URL. Beautiful Soup is not an HTTP client. You should probably use an HTTP client like requests to get the document behind the URL, and feed that document to Beautiful Soup.\n",
      "  ' that document to Beautiful Soup.' % decoded_markup\n",
      "//anaconda3/lib/python3.7/site-packages/bs4/__init__.py:375: UserWarning: \"https://youtu.be/EfCiEh_nrVY\" looks like a URL. Beautiful Soup is not an HTTP client. You should probably use an HTTP client like requests to get the document behind the URL, and feed that document to Beautiful Soup.\n",
      "  ' that document to Beautiful Soup.' % decoded_markup\n",
      "//anaconda3/lib/python3.7/site-packages/bs4/__init__.py:375: UserWarning: \"http://extratorrent.cc/torrent/2028151/Prototype+Language+Changer+%28EN,+FR,+IT,+SP%29.html\" looks like a URL. Beautiful Soup is not an HTTP client. You should probably use an HTTP client like requests to get the document behind the URL, and feed that document to Beautiful Soup.\n",
      "  ' that document to Beautiful Soup.' % decoded_markup\n",
      "//anaconda3/lib/python3.7/site-packages/bs4/__init__.py:375: UserWarning: \"http://freesoftwarehat.blogspot.com/\" looks like a URL. Beautiful Soup is not an HTTP client. You should probably use an HTTP client like requests to get the document behind the URL, and feed that document to Beautiful Soup.\n",
      "  ' that document to Beautiful Soup.' % decoded_markup\n",
      "//anaconda3/lib/python3.7/site-packages/bs4/__init__.py:375: UserWarning: \"https://play.google.com/store/apps/details?id=businesstalk.topsocialgroups.com.businesstalk\" looks like a URL. Beautiful Soup is not an HTTP client. You should probably use an HTTP client like requests to get the document behind the URL, and feed that document to Beautiful Soup.\n",
      "  ' that document to Beautiful Soup.' % decoded_markup\n",
      "//anaconda3/lib/python3.7/site-packages/bs4/__init__.py:375: UserWarning: \"https://m.youtube.com/watch?v=nS971chDB3g\" looks like a URL. Beautiful Soup is not an HTTP client. You should probably use an HTTP client like requests to get the document behind the URL, and feed that document to Beautiful Soup.\n",
      "  ' that document to Beautiful Soup.' % decoded_markup\n",
      "//anaconda3/lib/python3.7/site-packages/bs4/__init__.py:375: UserWarning: \"https://www.youtube.com/watch?v=mdxq3MPza20\" looks like a URL. Beautiful Soup is not an HTTP client. You should probably use an HTTP client like requests to get the document behind the URL, and feed that document to Beautiful Soup.\n",
      "  ' that document to Beautiful Soup.' % decoded_markup\n",
      "//anaconda3/lib/python3.7/site-packages/bs4/__init__.py:375: UserWarning: \"https://play.google.com/store/apps/details?id=io.Ionic_sports_tak_live_onapp.developer\" looks like a URL. Beautiful Soup is not an HTTP client. You should probably use an HTTP client like requests to get the document behind the URL, and feed that document to Beautiful Soup.\n",
      "  ' that document to Beautiful Soup.' % decoded_markup\n"
     ]
    },
    {
     "name": "stderr",
     "output_type": "stream",
     "text": [
      "//anaconda3/lib/python3.7/site-packages/bs4/__init__.py:375: UserWarning: \"https://m.youtube.com/watch?v=XRKGKHScNCc\" looks like a URL. Beautiful Soup is not an HTTP client. You should probably use an HTTP client like requests to get the document behind the URL, and feed that document to Beautiful Soup.\n",
      "  ' that document to Beautiful Soup.' % decoded_markup\n",
      "//anaconda3/lib/python3.7/site-packages/bs4/__init__.py:375: UserWarning: \"https://youtu.be/FR6JA92P_dE\" looks like a URL. Beautiful Soup is not an HTTP client. You should probably use an HTTP client like requests to get the document behind the URL, and feed that document to Beautiful Soup.\n",
      "  ' that document to Beautiful Soup.' % decoded_markup\n",
      "//anaconda3/lib/python3.7/site-packages/bs4/__init__.py:375: UserWarning: \"http://forums.gamesforwindows.com/t/7889.aspx\" looks like a URL. Beautiful Soup is not an HTTP client. You should probably use an HTTP client like requests to get the document behind the URL, and feed that document to Beautiful Soup.\n",
      "  ' that document to Beautiful Soup.' % decoded_markup\n",
      "//anaconda3/lib/python3.7/site-packages/bs4/__init__.py:375: UserWarning: \"http://downloadcenter.samsung.com/content/SW/201211/20121115133026081/KiesSetup.exe\" looks like a URL. Beautiful Soup is not an HTTP client. You should probably use an HTTP client like requests to get the document behind the URL, and feed that document to Beautiful Soup.\n",
      "  ' that document to Beautiful Soup.' % decoded_markup\n",
      "//anaconda3/lib/python3.7/site-packages/bs4/__init__.py:375: UserWarning: \"http://office.microsoft.com/...\" looks like a URL. Beautiful Soup is not an HTTP client. You should probably use an HTTP client like requests to get the document behind the URL, and feed that document to Beautiful Soup.\n",
      "  ' that document to Beautiful Soup.' % decoded_markup\n",
      "//anaconda3/lib/python3.7/site-packages/bs4/__init__.py:375: UserWarning: \"http://www.4shared.com/file/ApaxULls/Sample_Worksheet.html\" looks like a URL. Beautiful Soup is not an HTTP client. You should probably use an HTTP client like requests to get the document behind the URL, and feed that document to Beautiful Soup.\n",
      "  ' that document to Beautiful Soup.' % decoded_markup\n",
      "//anaconda3/lib/python3.7/site-packages/bs4/__init__.py:375: UserWarning: \"https://www.youtube.com/watch?v=luRkeDCoxZ4\" looks like a URL. Beautiful Soup is not an HTTP client. You should probably use an HTTP client like requests to get the document behind the URL, and feed that document to Beautiful Soup.\n",
      "  ' that document to Beautiful Soup.' % decoded_markup\n",
      "//anaconda3/lib/python3.7/site-packages/bs4/__init__.py:375: UserWarning: \"http://techiesindiainc.com/\" looks like a URL. Beautiful Soup is not an HTTP client. You should probably use an HTTP client like requests to get the document behind the URL, and feed that document to Beautiful Soup.\n",
      "  ' that document to Beautiful Soup.' % decoded_markup\n",
      "//anaconda3/lib/python3.7/site-packages/bs4/__init__.py:375: UserWarning: \"http://img12.imageshack.us/img12/3018/photookd.jpg\" looks like a URL. Beautiful Soup is not an HTTP client. You should probably use an HTTP client like requests to get the document behind the URL, and feed that document to Beautiful Soup.\n",
      "  ' that document to Beautiful Soup.' % decoded_markup\n",
      "//anaconda3/lib/python3.7/site-packages/bs4/__init__.py:375: UserWarning: \"http://www.speedyshare.com/files/30412436/ZHPDiag.txt\" looks like a URL. Beautiful Soup is not an HTTP client. You should probably use an HTTP client like requests to get the document behind the URL, and feed that document to Beautiful Soup.\n",
      "  ' that document to Beautiful Soup.' % decoded_markup\n",
      "//anaconda3/lib/python3.7/site-packages/bs4/__init__.py:375: UserWarning: \"http://ccm.net/download/photo-album-91\" looks like a URL. Beautiful Soup is not an HTTP client. You should probably use an HTTP client like requests to get the document behind the URL, and feed that document to Beautiful Soup.\n",
      "  ' that document to Beautiful Soup.' % decoded_markup\n",
      "//anaconda3/lib/python3.7/site-packages/bs4/__init__.py:375: UserWarning: \"http://www.url2it.com/iaor\" looks like a URL. Beautiful Soup is not an HTTP client. You should probably use an HTTP client like requests to get the document behind the URL, and feed that document to Beautiful Soup.\n",
      "  ' that document to Beautiful Soup.' % decoded_markup\n",
      "//anaconda3/lib/python3.7/site-packages/bs4/__init__.py:375: UserWarning: \"http://rghost.ru/45667460\" looks like a URL. Beautiful Soup is not an HTTP client. You should probably use an HTTP client like requests to get the document behind the URL, and feed that document to Beautiful Soup.\n",
      "  ' that document to Beautiful Soup.' % decoded_markup\n",
      "//anaconda3/lib/python3.7/site-packages/bs4/__init__.py:375: UserWarning: \"http://hack-cheat-tools.com/\" looks like a URL. Beautiful Soup is not an HTTP client. You should probably use an HTTP client like requests to get the document behind the URL, and feed that document to Beautiful Soup.\n",
      "  ' that document to Beautiful Soup.' % decoded_markup\n",
      "//anaconda3/lib/python3.7/site-packages/bs4/__init__.py:375: UserWarning: \"http://www.xnxx.com/video14367369/saana_pornstar\" looks like a URL. Beautiful Soup is not an HTTP client. You should probably use an HTTP client like requests to get the document behind the URL, and feed that document to Beautiful Soup.\n",
      "  ' that document to Beautiful Soup.' % decoded_markup\n",
      "//anaconda3/lib/python3.7/site-packages/bs4/__init__.py:375: UserWarning: \"http://www.xnxx.com/video-cbbnr8e/slutty_lesbians_bridgette_and_lyra_licking_erect_clitoris_momlickspussy.com\" looks like a URL. Beautiful Soup is not an HTTP client. You should probably use an HTTP client like requests to get the document behind the URL, and feed that document to Beautiful Soup.\n",
      "  ' that document to Beautiful Soup.' % decoded_markup\n",
      "//anaconda3/lib/python3.7/site-packages/bs4/__init__.py:375: UserWarning: \"http://computersandtechnology10.blogspot.com.es/\" looks like a URL. Beautiful Soup is not an HTTP client. You should probably use an HTTP client like requests to get the document behind the URL, and feed that document to Beautiful Soup.\n",
      "  ' that document to Beautiful Soup.' % decoded_markup\n",
      "//anaconda3/lib/python3.7/site-packages/bs4/__init__.py:375: UserWarning: \"http://www.onlinetravelindia.com/classical-tours.html\" looks like a URL. Beautiful Soup is not an HTTP client. You should probably use an HTTP client like requests to get the document behind the URL, and feed that document to Beautiful Soup.\n",
      "  ' that document to Beautiful Soup.' % decoded_markup\n",
      "//anaconda3/lib/python3.7/site-packages/bs4/__init__.py:375: UserWarning: \"http://www.siberman.org/\" looks like a URL. Beautiful Soup is not an HTTP client. You should probably use an HTTP client like requests to get the document behind the URL, and feed that document to Beautiful Soup.\n",
      "  ' that document to Beautiful Soup.' % decoded_markup\n",
      "//anaconda3/lib/python3.7/site-packages/bs4/__init__.py:375: UserWarning: \"http:\\\\\\\\www.crudeoilguru.com\" looks like a URL. Beautiful Soup is not an HTTP client. You should probably use an HTTP client like requests to get the document behind the URL, and feed that document to Beautiful Soup.\n",
      "  ' that document to Beautiful Soup.' % decoded_markup\n",
      "//anaconda3/lib/python3.7/site-packages/bs4/__init__.py:375: UserWarning: \"http://www.avapose.com/dotnet_barcode/pdf417_generator.shtml\" looks like a URL. Beautiful Soup is not an HTTP client. You should probably use an HTTP client like requests to get the document behind the URL, and feed that document to Beautiful Soup.\n",
      "  ' that document to Beautiful Soup.' % decoded_markup\n",
      "//anaconda3/lib/python3.7/site-packages/bs4/__init__.py:375: UserWarning: \"http://www.avapose.com/aspnet_barcode/pdf417_generator.shtml\" looks like a URL. Beautiful Soup is not an HTTP client. You should probably use an HTTP client like requests to get the document behind the URL, and feed that document to Beautiful Soup.\n",
      "  ' that document to Beautiful Soup.' % decoded_markup\n",
      "//anaconda3/lib/python3.7/site-packages/bs4/__init__.py:375: UserWarning: \"http://ccm.net/faq/29282-uninstall-pc-performer\" looks like a URL. Beautiful Soup is not an HTTP client. You should probably use an HTTP client like requests to get the document behind the URL, and feed that document to Beautiful Soup.\n",
      "  ' that document to Beautiful Soup.' % decoded_markup\n"
     ]
    },
    {
     "name": "stderr",
     "output_type": "stream",
     "text": [
      "//anaconda3/lib/python3.7/site-packages/bs4/__init__.py:375: UserWarning: \"http://www.sertpornolar.com/mukemmel-masaj-sonrasi-ne-yapilir.html\" looks like a URL. Beautiful Soup is not an HTTP client. You should probably use an HTTP client like requests to get the document behind the URL, and feed that document to Beautiful Soup.\n",
      "  ' that document to Beautiful Soup.' % decoded_markup\n",
      "//anaconda3/lib/python3.7/site-packages/bs4/__init__.py:375: UserWarning: \"https://www.youtube.com/watch?v=cpvtlabejPY\" looks like a URL. Beautiful Soup is not an HTTP client. You should probably use an HTTP client like requests to get the document behind the URL, and feed that document to Beautiful Soup.\n",
      "  ' that document to Beautiful Soup.' % decoded_markup\n",
      "//anaconda3/lib/python3.7/site-packages/bs4/__init__.py:375: UserWarning: \"https://youtu.be/Uoyaikcp7LM\" looks like a URL. Beautiful Soup is not an HTTP client. You should probably use an HTTP client like requests to get the document behind the URL, and feed that document to Beautiful Soup.\n",
      "  ' that document to Beautiful Soup.' % decoded_markup\n",
      "//anaconda3/lib/python3.7/site-packages/bs4/__init__.py:375: UserWarning: \"https://www.youtube.com/watch?v=JdUXW69YYg0\" looks like a URL. Beautiful Soup is not an HTTP client. You should probably use an HTTP client like requests to get the document behind the URL, and feed that document to Beautiful Soup.\n",
      "  ' that document to Beautiful Soup.' % decoded_markup\n",
      "//anaconda3/lib/python3.7/site-packages/bs4/__init__.py:375: UserWarning: \"https://youtu.be/mkZVJ2jpNlA\" looks like a URL. Beautiful Soup is not an HTTP client. You should probably use an HTTP client like requests to get the document behind the URL, and feed that document to Beautiful Soup.\n",
      "  ' that document to Beautiful Soup.' % decoded_markup\n",
      "//anaconda3/lib/python3.7/site-packages/bs4/__init__.py:375: UserWarning: \"https://www.youtube.com/watch?v=gyXy0m-4bvE\" looks like a URL. Beautiful Soup is not an HTTP client. You should probably use an HTTP client like requests to get the document behind the URL, and feed that document to Beautiful Soup.\n",
      "  ' that document to Beautiful Soup.' % decoded_markup\n",
      "//anaconda3/lib/python3.7/site-packages/bs4/__init__.py:375: UserWarning: \"https://www.youtube.com/watch?v=-Gikh91MiFs\" looks like a URL. Beautiful Soup is not an HTTP client. You should probably use an HTTP client like requests to get the document behind the URL, and feed that document to Beautiful Soup.\n",
      "  ' that document to Beautiful Soup.' % decoded_markup\n",
      "//anaconda3/lib/python3.7/site-packages/bs4/__init__.py:375: UserWarning: \"https://youtu.be/-qaRJIP0U2I?t=108\" looks like a URL. Beautiful Soup is not an HTTP client. You should probably use an HTTP client like requests to get the document behind the URL, and feed that document to Beautiful Soup.\n",
      "  ' that document to Beautiful Soup.' % decoded_markup\n",
      "//anaconda3/lib/python3.7/site-packages/bs4/__init__.py:375: UserWarning: \"https://www.allcrackhere.com/spyhunter-5/\" looks like a URL. Beautiful Soup is not an HTTP client. You should probably use an HTTP client like requests to get the document behind the URL, and feed that document to Beautiful Soup.\n",
      "  ' that document to Beautiful Soup.' % decoded_markup\n",
      "//anaconda3/lib/python3.7/site-packages/bs4/__init__.py:375: UserWarning: \"https://www.apponfly.com/en/\" looks like a URL. Beautiful Soup is not an HTTP client. You should probably use an HTTP client like requests to get the document behind the URL, and feed that document to Beautiful Soup.\n",
      "  ' that document to Beautiful Soup.' % decoded_markup\n",
      "//anaconda3/lib/python3.7/site-packages/bs4/__init__.py:302: UserWarning: \"b'/'\" looks like a filename, not markup. You should probably open this file and pass the filehandle into Beautiful Soup.\n",
      "  ' Beautiful Soup.' % markup)\n",
      "//anaconda3/lib/python3.7/site-packages/bs4/__init__.py:375: UserWarning: \"http://www.youtube.com/watch?v=8yiRLB0FyBU\" looks like a URL. Beautiful Soup is not an HTTP client. You should probably use an HTTP client like requests to get the document behind the URL, and feed that document to Beautiful Soup.\n",
      "  ' that document to Beautiful Soup.' % decoded_markup\n",
      "//anaconda3/lib/python3.7/site-packages/bs4/__init__.py:375: UserWarning: \"http://h30434.www3.hp.com/t5/Other-HP-Consumer-Products-and-Technologies/USB-Flash-Drive-v210w-16-GB-Write-Protected/m-p/264429#M1900\" looks like a URL. Beautiful Soup is not an HTTP client. You should probably use an HTTP client like requests to get the document behind the URL, and feed that document to Beautiful Soup.\n",
      "  ' that document to Beautiful Soup.' % decoded_markup\n",
      "//anaconda3/lib/python3.7/site-packages/bs4/__init__.py:375: UserWarning: \"https://www.facebook.com/photo.php?fbid=331764526935723&set=a.318280678284108.67630.317563005022542&type=1&relevant_count=1\" looks like a URL. Beautiful Soup is not an HTTP client. You should probably use an HTTP client like requests to get the document behind the URL, and feed that document to Beautiful Soup.\n",
      "  ' that document to Beautiful Soup.' % decoded_markup\n",
      "//anaconda3/lib/python3.7/site-packages/bs4/__init__.py:375: UserWarning: \"https://www.youtube.com/watch?v=-vtK4NDmtwE\" looks like a URL. Beautiful Soup is not an HTTP client. You should probably use an HTTP client like requests to get the document behind the URL, and feed that document to Beautiful Soup.\n",
      "  ' that document to Beautiful Soup.' % decoded_markup\n",
      "//anaconda3/lib/python3.7/site-packages/bs4/__init__.py:375: UserWarning: \"https://www.youtube.com/watch?v=KOl8LZ5vI90\" looks like a URL. Beautiful Soup is not an HTTP client. You should probably use an HTTP client like requests to get the document behind the URL, and feed that document to Beautiful Soup.\n",
      "  ' that document to Beautiful Soup.' % decoded_markup\n",
      "//anaconda3/lib/python3.7/site-packages/bs4/__init__.py:375: UserWarning: \"https://www.youtube.com/watch?v=CFVT0nvACuI\" looks like a URL. Beautiful Soup is not an HTTP client. You should probably use an HTTP client like requests to get the document behind the URL, and feed that document to Beautiful Soup.\n",
      "  ' that document to Beautiful Soup.' % decoded_markup\n",
      "//anaconda3/lib/python3.7/site-packages/bs4/__init__.py:375: UserWarning: \"http://ccm.net/forum/affich-866219-use-vba-to-convert-an-excel-cell-colour-font-based-on-a-value\" looks like a URL. Beautiful Soup is not an HTTP client. You should probably use an HTTP client like requests to get the document behind the URL, and feed that document to Beautiful Soup.\n",
      "  ' that document to Beautiful Soup.' % decoded_markup\n",
      "//anaconda3/lib/python3.7/site-packages/bs4/__init__.py:375: UserWarning: \"http://www.keepautomation.com/font_tools/activex_dll_font_encoder.html\" looks like a URL. Beautiful Soup is not an HTTP client. You should probably use an HTTP client like requests to get the document behind the URL, and feed that document to Beautiful Soup.\n",
      "  ' that document to Beautiful Soup.' % decoded_markup\n",
      "//anaconda3/lib/python3.7/site-packages/bs4/__init__.py:375: UserWarning: \"http://www.ziddu.com/download/8411788/Remover.rar.html\" looks like a URL. Beautiful Soup is not an HTTP client. You should probably use an HTTP client like requests to get the document behind the URL, and feed that document to Beautiful Soup.\n",
      "  ' that document to Beautiful Soup.' % decoded_markup\n",
      "//anaconda3/lib/python3.7/site-packages/bs4/__init__.py:375: UserWarning: \"https://www.youtube.com/watch?v=DFIw2dWDPSU\" looks like a URL. Beautiful Soup is not an HTTP client. You should probably use an HTTP client like requests to get the document behind the URL, and feed that document to Beautiful Soup.\n",
      "  ' that document to Beautiful Soup.' % decoded_markup\n",
      "//anaconda3/lib/python3.7/site-packages/bs4/__init__.py:375: UserWarning: \"https://m.youtube.com/watch?v=Ft__0oXl2o0\" looks like a URL. Beautiful Soup is not an HTTP client. You should probably use an HTTP client like requests to get the document behind the URL, and feed that document to Beautiful Soup.\n",
      "  ' that document to Beautiful Soup.' % decoded_markup\n",
      "//anaconda3/lib/python3.7/site-packages/bs4/__init__.py:375: UserWarning: \"https://www.youtube.com/watch?v=_dPN1kG7mig\" looks like a URL. Beautiful Soup is not an HTTP client. You should probably use an HTTP client like requests to get the document behind the URL, and feed that document to Beautiful Soup.\n",
      "  ' that document to Beautiful Soup.' % decoded_markup\n"
     ]
    },
    {
     "name": "stderr",
     "output_type": "stream",
     "text": [
      "//anaconda3/lib/python3.7/site-packages/bs4/__init__.py:375: UserWarning: \"http://www.networkworld.com/article/2201779/applications/how-to-solve-windows-7-crashes-in-minutes.html\" looks like a URL. Beautiful Soup is not an HTTP client. You should probably use an HTTP client like requests to get the document behind the URL, and feed that document to Beautiful Soup.\n",
      "  ' that document to Beautiful Soup.' % decoded_markup\n",
      "//anaconda3/lib/python3.7/site-packages/bs4/__init__.py:375: UserWarning: \"http://www.youtube.com/watch?v=EISfNFbp5NQ\" looks like a URL. Beautiful Soup is not an HTTP client. You should probably use an HTTP client like requests to get the document behind the URL, and feed that document to Beautiful Soup.\n",
      "  ' that document to Beautiful Soup.' % decoded_markup\n",
      "//anaconda3/lib/python3.7/site-packages/bs4/__init__.py:375: UserWarning: \"https://www.youtube.com/channel/UCNjailVfaekJFMLhZz5y8CA\" looks like a URL. Beautiful Soup is not an HTTP client. You should probably use an HTTP client like requests to get the document behind the URL, and feed that document to Beautiful Soup.\n",
      "  ' that document to Beautiful Soup.' % decoded_markup\n",
      "//anaconda3/lib/python3.7/site-packages/bs4/__init__.py:375: UserWarning: \"http://www.wiredrivers.com/2014/10/hp-deskjet-ink-advantage-1515-driver.html\" looks like a URL. Beautiful Soup is not an HTTP client. You should probably use an HTTP client like requests to get the document behind the URL, and feed that document to Beautiful Soup.\n",
      "  ' that document to Beautiful Soup.' % decoded_markup\n",
      "//anaconda3/lib/python3.7/site-packages/bs4/__init__.py:375: UserWarning: \"http://www.youtube.com/watch?v=KWVqYa02PaU\" looks like a URL. Beautiful Soup is not an HTTP client. You should probably use an HTTP client like requests to get the document behind the URL, and feed that document to Beautiful Soup.\n",
      "  ' that document to Beautiful Soup.' % decoded_markup\n",
      "//anaconda3/lib/python3.7/site-packages/bs4/__init__.py:375: UserWarning: \"http://speedy.sh/uCavp/minidump.rar\" looks like a URL. Beautiful Soup is not an HTTP client. You should probably use an HTTP client like requests to get the document behind the URL, and feed that document to Beautiful Soup.\n",
      "  ' that document to Beautiful Soup.' % decoded_markup\n",
      "//anaconda3/lib/python3.7/site-packages/bs4/__init__.py:375: UserWarning: \"http://cashtorefer.com/Default.aspx?Refer=992994\" looks like a URL. Beautiful Soup is not an HTTP client. You should probably use an HTTP client like requests to get the document behind the URL, and feed that document to Beautiful Soup.\n",
      "  ' that document to Beautiful Soup.' % decoded_markup\n",
      "//anaconda3/lib/python3.7/site-packages/bs4/__init__.py:375: UserWarning: \"http://www.tanveersoft.com/kaspersky-antivirus-2014-free-full-version-activation-code/\" looks like a URL. Beautiful Soup is not an HTTP client. You should probably use an HTTP client like requests to get the document behind the URL, and feed that document to Beautiful Soup.\n",
      "  ' that document to Beautiful Soup.' % decoded_markup\n",
      "//anaconda3/lib/python3.7/site-packages/bs4/__init__.py:375: UserWarning: \"http://adf.ly/1HlGG7\" looks like a URL. Beautiful Soup is not an HTTP client. You should probably use an HTTP client like requests to get the document behind the URL, and feed that document to Beautiful Soup.\n",
      "  ' that document to Beautiful Soup.' % decoded_markup\n",
      "//anaconda3/lib/python3.7/site-packages/bs4/__init__.py:375: UserWarning: \"http://i.ytimg.com/vi/mSFTRoBY99s/hqdefault.jpg\" looks like a URL. Beautiful Soup is not an HTTP client. You should probably use an HTTP client like requests to get the document behind the URL, and feed that document to Beautiful Soup.\n",
      "  ' that document to Beautiful Soup.' % decoded_markup\n",
      "//anaconda3/lib/python3.7/site-packages/bs4/__init__.py:375: UserWarning: \"https://medium.com/@comedyfunnyvideos1/manto-full-movie-download-nawazuddin-siddiqui-movie-manto-abcee2662e28\" looks like a URL. Beautiful Soup is not an HTTP client. You should probably use an HTTP client like requests to get the document behind the URL, and feed that document to Beautiful Soup.\n",
      "  ' that document to Beautiful Soup.' % decoded_markup\n",
      "//anaconda3/lib/python3.7/site-packages/bs4/__init__.py:375: UserWarning: \"http://speedy.sh/JtdbC/Cash-Book-Rec.xlsm\" looks like a URL. Beautiful Soup is not an HTTP client. You should probably use an HTTP client like requests to get the document behind the URL, and feed that document to Beautiful Soup.\n",
      "  ' that document to Beautiful Soup.' % decoded_markup\n",
      "//anaconda3/lib/python3.7/site-packages/bs4/__init__.py:375: UserWarning: \"http://www.partage-facile.com/OT8NIHOH1H/usbfix__clean_2__t_nadia.txt.html\" looks like a URL. Beautiful Soup is not an HTTP client. You should probably use an HTTP client like requests to get the document behind the URL, and feed that document to Beautiful Soup.\n",
      "  ' that document to Beautiful Soup.' % decoded_markup\n",
      "//anaconda3/lib/python3.7/site-packages/bs4/__init__.py:375: UserWarning: \"http://mixatcool.blogspot.com/\" looks like a URL. Beautiful Soup is not an HTTP client. You should probably use an HTTP client like requests to get the document behind the URL, and feed that document to Beautiful Soup.\n",
      "  ' that document to Beautiful Soup.' % decoded_markup\n",
      "//anaconda3/lib/python3.7/site-packages/bs4/__init__.py:375: UserWarning: \"http://ccm.net/faq/9255-wikitaxi-access-to-wikipedia-offline\" looks like a URL. Beautiful Soup is not an HTTP client. You should probably use an HTTP client like requests to get the document behind the URL, and feed that document to Beautiful Soup.\n",
      "  ' that document to Beautiful Soup.' % decoded_markup\n",
      "//anaconda3/lib/python3.7/site-packages/bs4/__init__.py:375: UserWarning: \"http://kudabox.com/file-018-rar/\" looks like a URL. Beautiful Soup is not an HTTP client. You should probably use an HTTP client like requests to get the document behind the URL, and feed that document to Beautiful Soup.\n",
      "  ' that document to Beautiful Soup.' % decoded_markup\n",
      "//anaconda3/lib/python3.7/site-packages/bs4/__init__.py:375: UserWarning: \"http://www.viber-downloaden.nl\" looks like a URL. Beautiful Soup is not an HTTP client. You should probably use an HTTP client like requests to get the document behind the URL, and feed that document to Beautiful Soup.\n",
      "  ' that document to Beautiful Soup.' % decoded_markup\n",
      "//anaconda3/lib/python3.7/site-packages/bs4/__init__.py:375: UserWarning: \"https://www.youtube.com/watch?v=oLwUTMLOH1o\" looks like a URL. Beautiful Soup is not an HTTP client. You should probably use an HTTP client like requests to get the document behind the URL, and feed that document to Beautiful Soup.\n",
      "  ' that document to Beautiful Soup.' % decoded_markup\n",
      "//anaconda3/lib/python3.7/site-packages/bs4/__init__.py:375: UserWarning: \"https://www.amplemagazine.com\" looks like a URL. Beautiful Soup is not an HTTP client. You should probably use an HTTP client like requests to get the document behind the URL, and feed that document to Beautiful Soup.\n",
      "  ' that document to Beautiful Soup.' % decoded_markup\n",
      "//anaconda3/lib/python3.7/site-packages/bs4/__init__.py:375: UserWarning: \"https://sites.google.com/site/filmword2014/\" looks like a URL. Beautiful Soup is not an HTTP client. You should probably use an HTTP client like requests to get the document behind the URL, and feed that document to Beautiful Soup.\n",
      "  ' that document to Beautiful Soup.' % decoded_markup\n",
      "//anaconda3/lib/python3.7/site-packages/bs4/__init__.py:375: UserWarning: \"https://www.apponfly.com/cs/microsoft-visio-standard-2016?JKO=\" looks like a URL. Beautiful Soup is not an HTTP client. You should probably use an HTTP client like requests to get the document behind the URL, and feed that document to Beautiful Soup.\n",
      "  ' that document to Beautiful Soup.' % decoded_markup\n",
      "//anaconda3/lib/python3.7/site-packages/bs4/__init__.py:375: UserWarning: \"http://cuestiondeinformatica.blogspot.com.es/\" looks like a URL. Beautiful Soup is not an HTTP client. You should probably use an HTTP client like requests to get the document behind the URL, and feed that document to Beautiful Soup.\n",
      "  ' that document to Beautiful Soup.' % decoded_markup\n",
      "//anaconda3/lib/python3.7/site-packages/bs4/__init__.py:375: UserWarning: \"http://www.youtube.com/watch?v=2bfP3TZHUzY\" looks like a URL. Beautiful Soup is not an HTTP client. You should probably use an HTTP client like requests to get the document behind the URL, and feed that document to Beautiful Soup.\n",
      "  ' that document to Beautiful Soup.' % decoded_markup\n",
      "//anaconda3/lib/python3.7/site-packages/bs4/__init__.py:375: UserWarning: \"https://m.youtube.com/watch?v=vJwKKKd2ZYE\" looks like a URL. Beautiful Soup is not an HTTP client. You should probably use an HTTP client like requests to get the document behind the URL, and feed that document to Beautiful Soup.\n",
      "  ' that document to Beautiful Soup.' % decoded_markup\n"
     ]
    },
    {
     "name": "stderr",
     "output_type": "stream",
     "text": [
      "//anaconda3/lib/python3.7/site-packages/bs4/__init__.py:375: UserWarning: \"https://www.youtube.com/watch?v=uO59tfQ2TbA\" looks like a URL. Beautiful Soup is not an HTTP client. You should probably use an HTTP client like requests to get the document behind the URL, and feed that document to Beautiful Soup.\n",
      "  ' that document to Beautiful Soup.' % decoded_markup\n",
      "//anaconda3/lib/python3.7/site-packages/bs4/__init__.py:375: UserWarning: \"http://chuyensangbangdia.com/\" looks like a URL. Beautiful Soup is not an HTTP client. You should probably use an HTTP client like requests to get the document behind the URL, and feed that document to Beautiful Soup.\n",
      "  ' that document to Beautiful Soup.' % decoded_markup\n",
      "//anaconda3/lib/python3.7/site-packages/bs4/__init__.py:375: UserWarning: \"https://www.facebook.com/houria.orthophoniste?ref=br_tf\" looks like a URL. Beautiful Soup is not an HTTP client. You should probably use an HTTP client like requests to get the document behind the URL, and feed that document to Beautiful Soup.\n",
      "  ' that document to Beautiful Soup.' % decoded_markup\n",
      "//anaconda3/lib/python3.7/site-packages/bs4/__init__.py:375: UserWarning: \"http://WeeklyYouthPay.com/?ref=267280\" looks like a URL. Beautiful Soup is not an HTTP client. You should probably use an HTTP client like requests to get the document behind the URL, and feed that document to Beautiful Soup.\n",
      "  ' that document to Beautiful Soup.' % decoded_markup\n",
      "//anaconda3/lib/python3.7/site-packages/bs4/__init__.py:375: UserWarning: \"http://www.techrainy.com/2014/10/my-usb-is-not-formatting.html\" looks like a URL. Beautiful Soup is not an HTTP client. You should probably use an HTTP client like requests to get the document behind the URL, and feed that document to Beautiful Soup.\n",
      "  ' that document to Beautiful Soup.' % decoded_markup\n",
      "//anaconda3/lib/python3.7/site-packages/bs4/__init__.py:375: UserWarning: \"http://earntodie2apk.com\" looks like a URL. Beautiful Soup is not an HTTP client. You should probably use an HTTP client like requests to get the document behind the URL, and feed that document to Beautiful Soup.\n",
      "  ' that document to Beautiful Soup.' % decoded_markup\n",
      "//anaconda3/lib/python3.7/site-packages/bs4/__init__.py:375: UserWarning: \"http://ccm.net/download/printer-drivers-146\" looks like a URL. Beautiful Soup is not an HTTP client. You should probably use an HTTP client like requests to get the document behind the URL, and feed that document to Beautiful Soup.\n",
      "  ' that document to Beautiful Soup.' % decoded_markup\n",
      "//anaconda3/lib/python3.7/site-packages/bs4/__init__.py:375: UserWarning: \"http://www.xxxpendejas.com/tube8-xvideos/0439-cogiendo-con-su-novia-mexicana-xxx.html\" looks like a URL. Beautiful Soup is not an HTTP client. You should probably use an HTTP client like requests to get the document behind the URL, and feed that document to Beautiful Soup.\n",
      "  ' that document to Beautiful Soup.' % decoded_markup\n",
      "//anaconda3/lib/python3.7/site-packages/bs4/__init__.py:375: UserWarning: \"https://www.youtube.com/watch?v=rRAPnxsMcWo\" looks like a URL. Beautiful Soup is not an HTTP client. You should probably use an HTTP client like requests to get the document behind the URL, and feed that document to Beautiful Soup.\n",
      "  ' that document to Beautiful Soup.' % decoded_markup\n",
      "//anaconda3/lib/python3.7/site-packages/bs4/__init__.py:375: UserWarning: \"https://www.facebook.com/help/187140544720418/?ref=cr\" looks like a URL. Beautiful Soup is not an HTTP client. You should probably use an HTTP client like requests to get the document behind the URL, and feed that document to Beautiful Soup.\n",
      "  ' that document to Beautiful Soup.' % decoded_markup\n",
      "//anaconda3/lib/python3.7/site-packages/bs4/__init__.py:375: UserWarning: \"http://www.hackersnewsbulletin.com/2013/09/new-password-cracking-software-tries-8-million-times-per-second-crack-password.html\" looks like a URL. Beautiful Soup is not an HTTP client. You should probably use an HTTP client like requests to get the document behind the URL, and feed that document to Beautiful Soup.\n",
      "  ' that document to Beautiful Soup.' % decoded_markup\n",
      "//anaconda3/lib/python3.7/site-packages/bs4/__init__.py:375: UserWarning: \"http://WeeklyFixPay.com/?share=39805\" looks like a URL. Beautiful Soup is not an HTTP client. You should probably use an HTTP client like requests to get the document behind the URL, and feed that document to Beautiful Soup.\n",
      "  ' that document to Beautiful Soup.' % decoded_markup\n",
      "//anaconda3/lib/python3.7/site-packages/bs4/__init__.py:375: UserWarning: \"http://download.cnet.com/Free-Folder-Hider/3000-2092_4-10884537.html\" looks like a URL. Beautiful Soup is not an HTTP client. You should probably use an HTTP client like requests to get the document behind the URL, and feed that document to Beautiful Soup.\n",
      "  ' that document to Beautiful Soup.' % decoded_markup\n",
      "//anaconda3/lib/python3.7/site-packages/bs4/__init__.py:375: UserWarning: \"http://riotrewards.com/index.php?id=10686\" looks like a URL. Beautiful Soup is not an HTTP client. You should probably use an HTTP client like requests to get the document behind the URL, and feed that document to Beautiful Soup.\n",
      "  ' that document to Beautiful Soup.' % decoded_markup\n",
      "//anaconda3/lib/python3.7/site-packages/bs4/__init__.py:375: UserWarning: \"https://youtu.be/z3kY_AqZbPs?list=RDIlmvLIEfgCM\" looks like a URL. Beautiful Soup is not an HTTP client. You should probably use an HTTP client like requests to get the document behind the URL, and feed that document to Beautiful Soup.\n",
      "  ' that document to Beautiful Soup.' % decoded_markup\n",
      "//anaconda3/lib/python3.7/site-packages/bs4/__init__.py:375: UserWarning: \"http://steam-wallet.steam-key-giveaway.com/?ref=MHOLSth8\" looks like a URL. Beautiful Soup is not an HTTP client. You should probably use an HTTP client like requests to get the document behind the URL, and feed that document to Beautiful Soup.\n",
      "  ' that document to Beautiful Soup.' % decoded_markup\n",
      "//anaconda3/lib/python3.7/site-packages/bs4/__init__.py:375: UserWarning: \"https://m.facebook.com/photo.php?fbid=1617074751898280&id=100007873110023&set=a.1425969561008801.1073741827.100007873110023&source=44&refid=17\" looks like a URL. Beautiful Soup is not an HTTP client. You should probably use an HTTP client like requests to get the document behind the URL, and feed that document to Beautiful Soup.\n",
      "  ' that document to Beautiful Soup.' % decoded_markup\n",
      "//anaconda3/lib/python3.7/site-packages/bs4/__init__.py:375: UserWarning: \"http://ccm.net/forum/affich-843156-your-facebook-comment-could-not-be-submitted\" looks like a URL. Beautiful Soup is not an HTTP client. You should probably use an HTTP client like requests to get the document behind the URL, and feed that document to Beautiful Soup.\n",
      "  ' that document to Beautiful Soup.' % decoded_markup\n",
      "//anaconda3/lib/python3.7/site-packages/bs4/__init__.py:375: UserWarning: \"https://www.wattpad.com/user/GreenBayPackerslive\" looks like a URL. Beautiful Soup is not an HTTP client. You should probably use an HTTP client like requests to get the document behind the URL, and feed that document to Beautiful Soup.\n",
      "  ' that document to Beautiful Soup.' % decoded_markup\n",
      "//anaconda3/lib/python3.7/site-packages/bs4/__init__.py:375: UserWarning: \"https://youtu.be/FNxD8nRCCms?t=134\" looks like a URL. Beautiful Soup is not an HTTP client. You should probably use an HTTP client like requests to get the document behind the URL, and feed that document to Beautiful Soup.\n",
      "  ' that document to Beautiful Soup.' % decoded_markup\n",
      "//anaconda3/lib/python3.7/site-packages/bs4/__init__.py:375: UserWarning: \"https://m.facebook.com/mama.dashty?fref=ts\" looks like a URL. Beautiful Soup is not an HTTP client. You should probably use an HTTP client like requests to get the document behind the URL, and feed that document to Beautiful Soup.\n",
      "  ' that document to Beautiful Soup.' % decoded_markup\n",
      "//anaconda3/lib/python3.7/site-packages/bs4/__init__.py:375: UserWarning: \"http://www.facebook.com/...\" looks like a URL. Beautiful Soup is not an HTTP client. You should probably use an HTTP client like requests to get the document behind the URL, and feed that document to Beautiful Soup.\n",
      "  ' that document to Beautiful Soup.' % decoded_markup\n"
     ]
    },
    {
     "name": "stderr",
     "output_type": "stream",
     "text": [
      "//anaconda3/lib/python3.7/site-packages/bs4/__init__.py:375: UserWarning: \"https://www.imageshack.us/i/pmUoq5mcp\" looks like a URL. Beautiful Soup is not an HTTP client. You should probably use an HTTP client like requests to get the document behind the URL, and feed that document to Beautiful Soup.\n",
      "  ' that document to Beautiful Soup.' % decoded_markup\n",
      "//anaconda3/lib/python3.7/site-packages/bs4/__init__.py:375: UserWarning: \"http://ccm.net/forum/affich-888861-casustel#p888862\" looks like a URL. Beautiful Soup is not an HTTP client. You should probably use an HTTP client like requests to get the document behind the URL, and feed that document to Beautiful Soup.\n",
      "  ' that document to Beautiful Soup.' % decoded_markup\n",
      "//anaconda3/lib/python3.7/site-packages/bs4/__init__.py:375: UserWarning: \"http://www.toxicmob.com\" looks like a URL. Beautiful Soup is not an HTTP client. You should probably use an HTTP client like requests to get the document behind the URL, and feed that document to Beautiful Soup.\n",
      "  ' that document to Beautiful Soup.' % decoded_markup\n",
      "//anaconda3/lib/python3.7/site-packages/bs4/__init__.py:375: UserWarning: \"https://m.facebook.com/login/checkpoint/\" looks like a URL. Beautiful Soup is not an HTTP client. You should probably use an HTTP client like requests to get the document behind the URL, and feed that document to Beautiful Soup.\n",
      "  ' that document to Beautiful Soup.' % decoded_markup\n",
      "//anaconda3/lib/python3.7/site-packages/bs4/__init__.py:375: UserWarning: \"https://m.facebook.com/photo.php?fbid=177921672609051&id=100011736582241&set=a.121245261610026.1073741826.100011736582241\" looks like a URL. Beautiful Soup is not an HTTP client. You should probably use an HTTP client like requests to get the document behind the URL, and feed that document to Beautiful Soup.\n",
      "  ' that document to Beautiful Soup.' % decoded_markup\n",
      "//anaconda3/lib/python3.7/site-packages/bs4/__init__.py:302: UserWarning: \"b'////'\" looks like a filename, not markup. You should probably open this file and pass the filehandle into Beautiful Soup.\n",
      "  ' Beautiful Soup.' % markup)\n",
      "//anaconda3/lib/python3.7/site-packages/bs4/__init__.py:375: UserWarning: \"https://goo.gl/vkaI1q\" looks like a URL. Beautiful Soup is not an HTTP client. You should probably use an HTTP client like requests to get the document behind the URL, and feed that document to Beautiful Soup.\n",
      "  ' that document to Beautiful Soup.' % decoded_markup\n",
      "//anaconda3/lib/python3.7/site-packages/bs4/__init__.py:375: UserWarning: \"http://netduty.club/?ref=23227\" looks like a URL. Beautiful Soup is not an HTTP client. You should probably use an HTTP client like requests to get the document behind the URL, and feed that document to Beautiful Soup.\n",
      "  ' that document to Beautiful Soup.' % decoded_markup\n",
      "//anaconda3/lib/python3.7/site-packages/bs4/__init__.py:375: UserWarning: \"http://games-hacks.net/free-google-play/\" looks like a URL. Beautiful Soup is not an HTTP client. You should probably use an HTTP client like requests to get the document behind the URL, and feed that document to Beautiful Soup.\n",
      "  ' that document to Beautiful Soup.' % decoded_markup\n",
      "//anaconda3/lib/python3.7/site-packages/bs4/__init__.py:375: UserWarning: \"https://ssl.facebook.com/help/contact.php?show_form=hacked_self_recovery\" looks like a URL. Beautiful Soup is not an HTTP client. You should probably use an HTTP client like requests to get the document behind the URL, and feed that document to Beautiful Soup.\n",
      "  ' that document to Beautiful Soup.' % decoded_markup\n",
      "//anaconda3/lib/python3.7/site-packages/bs4/__init__.py:375: UserWarning: \"https://m.facebook.com/checkpoint/?__req=2\" looks like a URL. Beautiful Soup is not an HTTP client. You should probably use an HTTP client like requests to get the document behind the URL, and feed that document to Beautiful Soup.\n",
      "  ' that document to Beautiful Soup.' % decoded_markup\n",
      "//anaconda3/lib/python3.7/site-packages/bs4/__init__.py:375: UserWarning: \"https://www.youtube.com/watch?v=xCkDiliBmjU\" looks like a URL. Beautiful Soup is not an HTTP client. You should probably use an HTTP client like requests to get the document behind the URL, and feed that document to Beautiful Soup.\n",
      "  ' that document to Beautiful Soup.' % decoded_markup\n",
      "//anaconda3/lib/python3.7/site-packages/bs4/__init__.py:375: UserWarning: \"https://worldinfinity.in/instagram-bio-ideas-with-emoji.html\" looks like a URL. Beautiful Soup is not an HTTP client. You should probably use an HTTP client like requests to get the document behind the URL, and feed that document to Beautiful Soup.\n",
      "  ' that document to Beautiful Soup.' % decoded_markup\n",
      "//anaconda3/lib/python3.7/site-packages/bs4/__init__.py:375: UserWarning: \"https://m.facebook.com/recover/trusted/?ctp=ran.im%40yahoo.com&resfrc=https%3A%2F%2fm.facebook.com%2Frecover%2Fextended&_rdr\" looks like a URL. Beautiful Soup is not an HTTP client. You should probably use an HTTP client like requests to get the document behind the URL, and feed that document to Beautiful Soup.\n",
      "  ' that document to Beautiful Soup.' % decoded_markup\n",
      "//anaconda3/lib/python3.7/site-packages/bs4/__init__.py:375: UserWarning: \"http://cdn2.hubspot.net/hub/203683/file-3028506282-jpg/blog-files/twitter20verified.jpg\" looks like a URL. Beautiful Soup is not an HTTP client. You should probably use an HTTP client like requests to get the document behind the URL, and feed that document to Beautiful Soup.\n",
      "  ' that document to Beautiful Soup.' % decoded_markup\n",
      "//anaconda3/lib/python3.7/site-packages/bs4/__init__.py:375: UserWarning: \"https://www.facebook.com/profile.php?id=100012092625375&amp;ref=ts&amp;fref=ts\" looks like a URL. Beautiful Soup is not an HTTP client. You should probably use an HTTP client like requests to get the document behind the URL, and feed that document to Beautiful Soup.\n",
      "  ' that document to Beautiful Soup.' % decoded_markup\n",
      "//anaconda3/lib/python3.7/site-packages/bs4/__init__.py:375: UserWarning: \"https://www.facebook.com/manoch.rose\" looks like a URL. Beautiful Soup is not an HTTP client. You should probably use an HTTP client like requests to get the document behind the URL, and feed that document to Beautiful Soup.\n",
      "  ' that document to Beautiful Soup.' % decoded_markup\n",
      "//anaconda3/lib/python3.7/site-packages/bs4/__init__.py:375: UserWarning: \"http://www.test.com\" looks like a URL. Beautiful Soup is not an HTTP client. You should probably use an HTTP client like requests to get the document behind the URL, and feed that document to Beautiful Soup.\n",
      "  ' that document to Beautiful Soup.' % decoded_markup\n",
      "//anaconda3/lib/python3.7/site-packages/bs4/__init__.py:375: UserWarning: \"https://m.facebook.com/checkpoint/?__req=3\" looks like a URL. Beautiful Soup is not an HTTP client. You should probably use an HTTP client like requests to get the document behind the URL, and feed that document to Beautiful Soup.\n",
      "  ' that document to Beautiful Soup.' % decoded_markup\n",
      "//anaconda3/lib/python3.7/site-packages/bs4/__init__.py:375: UserWarning: \"http://www.eprinterdriver.ga/2016/08/epson-stylus-cx9475-fax-driver-download.html\" looks like a URL. Beautiful Soup is not an HTTP client. You should probably use an HTTP client like requests to get the document behind the URL, and feed that document to Beautiful Soup.\n",
      "  ' that document to Beautiful Soup.' % decoded_markup\n",
      "//anaconda3/lib/python3.7/site-packages/bs4/__init__.py:375: UserWarning: \"https://www.facebook.com/profile.php?id=100014860991344\" looks like a URL. Beautiful Soup is not an HTTP client. You should probably use an HTTP client like requests to get the document behind the URL, and feed that document to Beautiful Soup.\n",
      "  ' that document to Beautiful Soup.' % decoded_markup\n",
      "//anaconda3/lib/python3.7/site-packages/bs4/__init__.py:375: UserWarning: \"http://s000.tinyupload.com/index.php?file_id=97525784931422757594\" looks like a URL. Beautiful Soup is not an HTTP client. You should probably use an HTTP client like requests to get the document behind the URL, and feed that document to Beautiful Soup.\n",
      "  ' that document to Beautiful Soup.' % decoded_markup\n",
      "//anaconda3/lib/python3.7/site-packages/bs4/__init__.py:375: UserWarning: \"http://www.atrin.co\" looks like a URL. Beautiful Soup is not an HTTP client. You should probably use an HTTP client like requests to get the document behind the URL, and feed that document to Beautiful Soup.\n",
      "  ' that document to Beautiful Soup.' % decoded_markup\n",
      "//anaconda3/lib/python3.7/site-packages/bs4/__init__.py:375: UserWarning: \"http://www.atrin.co/\" looks like a URL. Beautiful Soup is not an HTTP client. You should probably use an HTTP client like requests to get the document behind the URL, and feed that document to Beautiful Soup.\n",
      "  ' that document to Beautiful Soup.' % decoded_markup\n",
      "//anaconda3/lib/python3.7/site-packages/bs4/__init__.py:375: UserWarning: \"https://m.facebook.com/ahmed.elghoul.752?ref=bookmarks\" looks like a URL. Beautiful Soup is not an HTTP client. You should probably use an HTTP client like requests to get the document behind the URL, and feed that document to Beautiful Soup.\n",
      "  ' that document to Beautiful Soup.' % decoded_markup\n"
     ]
    },
    {
     "name": "stderr",
     "output_type": "stream",
     "text": [
      "//anaconda3/lib/python3.7/site-packages/bs4/__init__.py:375: UserWarning: \"http://ccm.net/forum/affich-951823-forgot-gmail-password-lost-recovery-mobile-number\" looks like a URL. Beautiful Soup is not an HTTP client. You should probably use an HTTP client like requests to get the document behind the URL, and feed that document to Beautiful Soup.\n",
      "  ' that document to Beautiful Soup.' % decoded_markup\n",
      "//anaconda3/lib/python3.7/site-packages/bs4/__init__.py:375: UserWarning: \"https://mbasic.facebook.com/abwaansomali.dhaqandhawr?_e_pi_=7%2CPAGE_ID10%2C3761784137\" looks like a URL. Beautiful Soup is not an HTTP client. You should probably use an HTTP client like requests to get the document behind the URL, and feed that document to Beautiful Soup.\n",
      "  ' that document to Beautiful Soup.' % decoded_markup\n",
      "//anaconda3/lib/python3.7/site-packages/bs4/__init__.py:375: UserWarning: \"https://www.facebook.com/duakashmiri786\" looks like a URL. Beautiful Soup is not an HTTP client. You should probably use an HTTP client like requests to get the document behind the URL, and feed that document to Beautiful Soup.\n",
      "  ' that document to Beautiful Soup.' % decoded_markup\n",
      "//anaconda3/lib/python3.7/site-packages/bs4/__init__.py:375: UserWarning: \"https://www.facebook.com/profile.php?id=100007869468773\" looks like a URL. Beautiful Soup is not an HTTP client. You should probably use an HTTP client like requests to get the document behind the URL, and feed that document to Beautiful Soup.\n",
      "  ' that document to Beautiful Soup.' % decoded_markup\n",
      "//anaconda3/lib/python3.7/site-packages/bs4/__init__.py:375: UserWarning: \"https://www.facebook.com/profile.php?id=100019131885753\" looks like a URL. Beautiful Soup is not an HTTP client. You should probably use an HTTP client like requests to get the document behind the URL, and feed that document to Beautiful Soup.\n",
      "  ' that document to Beautiful Soup.' % decoded_markup\n",
      "//anaconda3/lib/python3.7/site-packages/bs4/__init__.py:375: UserWarning: \"http://www.email-customer-support.com/emails-support/yahoo-customer-service/\" looks like a URL. Beautiful Soup is not an HTTP client. You should probably use an HTTP client like requests to get the document behind the URL, and feed that document to Beautiful Soup.\n",
      "  ' that document to Beautiful Soup.' % decoded_markup\n",
      "//anaconda3/lib/python3.7/site-packages/bs4/__init__.py:375: UserWarning: \"http://g.co/recover%20password\" looks like a URL. Beautiful Soup is not an HTTP client. You should probably use an HTTP client like requests to get the document behind the URL, and feed that document to Beautiful Soup.\n",
      "  ' that document to Beautiful Soup.' % decoded_markup\n",
      "//anaconda3/lib/python3.7/site-packages/bs4/__init__.py:375: UserWarning: \"https://lite.qwant.com/\" looks like a URL. Beautiful Soup is not an HTTP client. You should probably use an HTTP client like requests to get the document behind the URL, and feed that document to Beautiful Soup.\n",
      "  ' that document to Beautiful Soup.' % decoded_markup\n",
      "//anaconda3/lib/python3.7/site-packages/bs4/__init__.py:375: UserWarning: \"https://mobile.facebook.com/sanju.afrin.35?_e_pi_=7%2CPAGE_ID10%2C2386236775\" looks like a URL. Beautiful Soup is not an HTTP client. You should probably use an HTTP client like requests to get the document behind the URL, and feed that document to Beautiful Soup.\n",
      "  ' that document to Beautiful Soup.' % decoded_markup\n",
      "//anaconda3/lib/python3.7/site-packages/bs4/__init__.py:375: UserWarning: \"https://www.facebook.com/sai.monn.904\" looks like a URL. Beautiful Soup is not an HTTP client. You should probably use an HTTP client like requests to get the document behind the URL, and feed that document to Beautiful Soup.\n",
      "  ' that document to Beautiful Soup.' % decoded_markup\n",
      "//anaconda3/lib/python3.7/site-packages/bs4/__init__.py:375: UserWarning: \"http://feedburner.google.com/fb/a/captcha?ct=qvKFq14BAAA.Od6S\" looks like a URL. Beautiful Soup is not an HTTP client. You should probably use an HTTP client like requests to get the document behind the URL, and feed that document to Beautiful Soup.\n",
      "  ' that document to Beautiful Soup.' % decoded_markup\n",
      "//anaconda3/lib/python3.7/site-packages/bs4/__init__.py:375: UserWarning: \"https://www.facebook.com/sad.khan.31945\" looks like a URL. Beautiful Soup is not an HTTP client. You should probably use an HTTP client like requests to get the document behind the URL, and feed that document to Beautiful Soup.\n",
      "  ' that document to Beautiful Soup.' % decoded_markup\n",
      "//anaconda3/lib/python3.7/site-packages/bs4/__init__.py:375: UserWarning: \"https://www.youtube.com/watch?v=HN7Sv2heE34&t=3s\" looks like a URL. Beautiful Soup is not an HTTP client. You should probably use an HTTP client like requests to get the document behind the URL, and feed that document to Beautiful Soup.\n",
      "  ' that document to Beautiful Soup.' % decoded_markup\n",
      "//anaconda3/lib/python3.7/site-packages/bs4/__init__.py:375: UserWarning: \"https://findmyfbid.com/success/732944300209532\" looks like a URL. Beautiful Soup is not an HTTP client. You should probably use an HTTP client like requests to get the document behind the URL, and feed that document to Beautiful Soup.\n",
      "  ' that document to Beautiful Soup.' % decoded_markup\n",
      "//anaconda3/lib/python3.7/site-packages/bs4/__init__.py:375: UserWarning: \"https://m.facebook.com/profile.php?id=100013527543611&pn_ref=ec_friends_card_unseen\" looks like a URL. Beautiful Soup is not an HTTP client. You should probably use an HTTP client like requests to get the document behind the URL, and feed that document to Beautiful Soup.\n",
      "  ' that document to Beautiful Soup.' % decoded_markup\n",
      "//anaconda3/lib/python3.7/site-packages/bs4/__init__.py:375: UserWarning: \"https://www.youtube.com/watch?v=dUlF_htvD6E&feature=youtu.be\" looks like a URL. Beautiful Soup is not an HTTP client. You should probably use an HTTP client like requests to get the document behind the URL, and feed that document to Beautiful Soup.\n",
      "  ' that document to Beautiful Soup.' % decoded_markup\n",
      "//anaconda3/lib/python3.7/site-packages/bs4/__init__.py:375: UserWarning: \"http://downloadconfirm.net/file/36lh66\" looks like a URL. Beautiful Soup is not an HTTP client. You should probably use an HTTP client like requests to get the document behind the URL, and feed that document to Beautiful Soup.\n",
      "  ' that document to Beautiful Soup.' % decoded_markup\n",
      "//anaconda3/lib/python3.7/site-packages/bs4/__init__.py:375: UserWarning: \"https://www.test.com\" looks like a URL. Beautiful Soup is not an HTTP client. You should probably use an HTTP client like requests to get the document behind the URL, and feed that document to Beautiful Soup.\n",
      "  ' that document to Beautiful Soup.' % decoded_markup\n",
      "//anaconda3/lib/python3.7/site-packages/bs4/__init__.py:375: UserWarning: \"https://www.facebook.com/phyoepa.pathin\" looks like a URL. Beautiful Soup is not an HTTP client. You should probably use an HTTP client like requests to get the document behind the URL, and feed that document to Beautiful Soup.\n",
      "  ' that document to Beautiful Soup.' % decoded_markup\n",
      "//anaconda3/lib/python3.7/site-packages/bs4/__init__.py:375: UserWarning: \"https://www.viafiles.com/\" looks like a URL. Beautiful Soup is not an HTTP client. You should probably use an HTTP client like requests to get the document behind the URL, and feed that document to Beautiful Soup.\n",
      "  ' that document to Beautiful Soup.' % decoded_markup\n",
      "//anaconda3/lib/python3.7/site-packages/bs4/__init__.py:375: UserWarning: \"https://www.facebook.com/terms.php\" looks like a URL. Beautiful Soup is not an HTTP client. You should probably use an HTTP client like requests to get the document behind the URL, and feed that document to Beautiful Soup.\n",
      "  ' that document to Beautiful Soup.' % decoded_markup\n",
      "//anaconda3/lib/python3.7/site-packages/bs4/__init__.py:375: UserWarning: \"http://tiny.cc/8w1vpy\" looks like a URL. Beautiful Soup is not an HTTP client. You should probably use an HTTP client like requests to get the document behind the URL, and feed that document to Beautiful Soup.\n",
      "  ' that document to Beautiful Soup.' % decoded_markup\n",
      "//anaconda3/lib/python3.7/site-packages/bs4/__init__.py:375: UserWarning: \"https://youtu.be/ajlr-kyJU0Q\" looks like a URL. Beautiful Soup is not an HTTP client. You should probably use an HTTP client like requests to get the document behind the URL, and feed that document to Beautiful Soup.\n",
      "  ' that document to Beautiful Soup.' % decoded_markup\n"
     ]
    },
    {
     "name": "stderr",
     "output_type": "stream",
     "text": [
      "//anaconda3/lib/python3.7/site-packages/bs4/__init__.py:375: UserWarning: \"https://www.traveloka.com/hotel/indonesia/fiz-apartemen-margonda-viv-3000010026187?spec=6-12-2017.7-12-2017.1.1.HOTEL.3000010026187.Fiz+Apartemen+Margonda+V&IV_1\" looks like a URL. Beautiful Soup is not an HTTP client. You should probably use an HTTP client like requests to get the document behind the URL, and feed that document to Beautiful Soup.\n",
      "  ' that document to Beautiful Soup.' % decoded_markup\n",
      "//anaconda3/lib/python3.7/site-packages/bs4/__init__.py:375: UserWarning: \"https://youtu.be/qgn5GtAUGao\" looks like a URL. Beautiful Soup is not an HTTP client. You should probably use an HTTP client like requests to get the document behind the URL, and feed that document to Beautiful Soup.\n",
      "  ' that document to Beautiful Soup.' % decoded_markup\n",
      "//anaconda3/lib/python3.7/site-packages/bs4/__init__.py:375: UserWarning: \"https://www.youtube.com/watch?v=3Na5hskDfJ4&start_radio=1&list=RD3Na5hskDfJ4\" looks like a URL. Beautiful Soup is not an HTTP client. You should probably use an HTTP client like requests to get the document behind the URL, and feed that document to Beautiful Soup.\n",
      "  ' that document to Beautiful Soup.' % decoded_markup\n",
      "//anaconda3/lib/python3.7/site-packages/bs4/__init__.py:375: UserWarning: \"https://bogusbraxtor.ph\" looks like a URL. Beautiful Soup is not an HTTP client. You should probably use an HTTP client like requests to get the document behind the URL, and feed that document to Beautiful Soup.\n",
      "  ' that document to Beautiful Soup.' % decoded_markup\n",
      "//anaconda3/lib/python3.7/site-packages/bs4/__init__.py:375: UserWarning: \"https://www.facebook.com/profile.php?id=100011002484328\" looks like a URL. Beautiful Soup is not an HTTP client. You should probably use an HTTP client like requests to get the document behind the URL, and feed that document to Beautiful Soup.\n",
      "  ' that document to Beautiful Soup.' % decoded_markup\n",
      "//anaconda3/lib/python3.7/site-packages/bs4/__init__.py:375: UserWarning: \"https://getsnap.link/S55GNSSuVuy\" looks like a URL. Beautiful Soup is not an HTTP client. You should probably use an HTTP client like requests to get the document behind the URL, and feed that document to Beautiful Soup.\n",
      "  ' that document to Beautiful Soup.' % decoded_markup\n",
      "//anaconda3/lib/python3.7/site-packages/bs4/__init__.py:375: UserWarning: \"https://www.facebook.com/myint.myataung.12382923\" looks like a URL. Beautiful Soup is not an HTTP client. You should probably use an HTTP client like requests to get the document behind the URL, and feed that document to Beautiful Soup.\n",
      "  ' that document to Beautiful Soup.' % decoded_markup\n",
      "//anaconda3/lib/python3.7/site-packages/bs4/__init__.py:375: UserWarning: \"https://www.facebook.com/aligul.jalbani.773\" looks like a URL. Beautiful Soup is not an HTTP client. You should probably use an HTTP client like requests to get the document behind the URL, and feed that document to Beautiful Soup.\n",
      "  ' that document to Beautiful Soup.' % decoded_markup\n",
      "//anaconda3/lib/python3.7/site-packages/bs4/__init__.py:375: UserWarning: \"https://photos.app.goo.gl/zByg6xLA3gZjdpE4A\" looks like a URL. Beautiful Soup is not an HTTP client. You should probably use an HTTP client like requests to get the document behind the URL, and feed that document to Beautiful Soup.\n",
      "  ' that document to Beautiful Soup.' % decoded_markup\n",
      "//anaconda3/lib/python3.7/site-packages/bs4/__init__.py:375: UserWarning: \"https://www.facebook.com/Hafeezjatoi110\" looks like a URL. Beautiful Soup is not an HTTP client. You should probably use an HTTP client like requests to get the document behind the URL, and feed that document to Beautiful Soup.\n",
      "  ' that document to Beautiful Soup.' % decoded_markup\n",
      "//anaconda3/lib/python3.7/site-packages/bs4/__init__.py:375: UserWarning: \"https://www.facebook.com/gisellefionaabrahams/archive\" looks like a URL. Beautiful Soup is not an HTTP client. You should probably use an HTTP client like requests to get the document behind the URL, and feed that document to Beautiful Soup.\n",
      "  ' that document to Beautiful Soup.' % decoded_markup\n",
      "//anaconda3/lib/python3.7/site-packages/bs4/__init__.py:375: UserWarning: \"https://www.facebook.com/sumit.chando.3\" looks like a URL. Beautiful Soup is not an HTTP client. You should probably use an HTTP client like requests to get the document behind the URL, and feed that document to Beautiful Soup.\n",
      "  ' that document to Beautiful Soup.' % decoded_markup\n",
      "//anaconda3/lib/python3.7/site-packages/bs4/__init__.py:375: UserWarning: \"https://www.facebook.com/nicki.boo.142\" looks like a URL. Beautiful Soup is not an HTTP client. You should probably use an HTTP client like requests to get the document behind the URL, and feed that document to Beautiful Soup.\n",
      "  ' that document to Beautiful Soup.' % decoded_markup\n",
      "//anaconda3/lib/python3.7/site-packages/bs4/__init__.py:375: UserWarning: \"http://www.uangcepats.com/?id=X7s25kk4\" looks like a URL. Beautiful Soup is not an HTTP client. You should probably use an HTTP client like requests to get the document behind the URL, and feed that document to Beautiful Soup.\n",
      "  ' that document to Beautiful Soup.' % decoded_markup\n",
      "//anaconda3/lib/python3.7/site-packages/bs4/__init__.py:375: UserWarning: \"https://www.facebook.com/wintwar.aye.102\" looks like a URL. Beautiful Soup is not an HTTP client. You should probably use an HTTP client like requests to get the document behind the URL, and feed that document to Beautiful Soup.\n",
      "  ' that document to Beautiful Soup.' % decoded_markup\n",
      "//anaconda3/lib/python3.7/site-packages/bs4/__init__.py:375: UserWarning: \"https://www.download-anymovie.com/added_movies/Venom-2018-Watch-Full-Movie-Online-Free.html\" looks like a URL. Beautiful Soup is not an HTTP client. You should probably use an HTTP client like requests to get the document behind the URL, and feed that document to Beautiful Soup.\n",
      "  ' that document to Beautiful Soup.' % decoded_markup\n",
      "//anaconda3/lib/python3.7/site-packages/bs4/__init__.py:375: UserWarning: \"https://customercontactnumber.com/contactus.html\" looks like a URL. Beautiful Soup is not an HTTP client. You should probably use an HTTP client like requests to get the document behind the URL, and feed that document to Beautiful Soup.\n",
      "  ' that document to Beautiful Soup.' % decoded_markup\n",
      "//anaconda3/lib/python3.7/site-packages/bs4/__init__.py:375: UserWarning: \"https://www.facebook.com/toto.fares.353\" looks like a URL. Beautiful Soup is not an HTTP client. You should probably use an HTTP client like requests to get the document behind the URL, and feed that document to Beautiful Soup.\n",
      "  ' that document to Beautiful Soup.' % decoded_markup\n",
      "//anaconda3/lib/python3.7/site-packages/bs4/__init__.py:375: UserWarning: \"https://www.instagram.com/p/Bruq6gIlPff/?utm_source=ig_share_sheet&igshid=68t4g5sau90g\" looks like a URL. Beautiful Soup is not an HTTP client. You should probably use an HTTP client like requests to get the document behind the URL, and feed that document to Beautiful Soup.\n",
      "  ' that document to Beautiful Soup.' % decoded_markup\n",
      "//anaconda3/lib/python3.7/site-packages/bs4/__init__.py:375: UserWarning: \"https://www.youtube.com/watch?v=BnJnu9CiChw\" looks like a URL. Beautiful Soup is not an HTTP client. You should probably use an HTTP client like requests to get the document behind the URL, and feed that document to Beautiful Soup.\n",
      "  ' that document to Beautiful Soup.' % decoded_markup\n",
      "//anaconda3/lib/python3.7/site-packages/bs4/__init__.py:375: UserWarning: \"https://hackfreeonline96.blogspot.com/?ref=1550094258915_v4\" looks like a URL. Beautiful Soup is not an HTTP client. You should probably use an HTTP client like requests to get the document behind the URL, and feed that document to Beautiful Soup.\n",
      "  ' that document to Beautiful Soup.' % decoded_markup\n",
      "//anaconda3/lib/python3.7/site-packages/bs4/__init__.py:375: UserWarning: \"https://www.youtube.com/watch?v=5MQoiIAxCNo\" looks like a URL. Beautiful Soup is not an HTTP client. You should probably use an HTTP client like requests to get the document behind the URL, and feed that document to Beautiful Soup.\n",
      "  ' that document to Beautiful Soup.' % decoded_markup\n",
      "//anaconda3/lib/python3.7/site-packages/bs4/__init__.py:375: UserWarning: \"https://www.facebook.com/bemal.barzani.98\" looks like a URL. Beautiful Soup is not an HTTP client. You should probably use an HTTP client like requests to get the document behind the URL, and feed that document to Beautiful Soup.\n",
      "  ' that document to Beautiful Soup.' % decoded_markup\n",
      "//anaconda3/lib/python3.7/site-packages/bs4/__init__.py:375: UserWarning: \"https://www.facebook.com/ashok.k.58726823\" looks like a URL. Beautiful Soup is not an HTTP client. You should probably use an HTTP client like requests to get the document behind the URL, and feed that document to Beautiful Soup.\n",
      "  ' that document to Beautiful Soup.' % decoded_markup\n"
     ]
    },
    {
     "name": "stderr",
     "output_type": "stream",
     "text": [
      "//anaconda3/lib/python3.7/site-packages/bs4/__init__.py:375: UserWarning: \"http://virtuelcampus.univ-msila.dz/facshs\" looks like a URL. Beautiful Soup is not an HTTP client. You should probably use an HTTP client like requests to get the document behind the URL, and feed that document to Beautiful Soup.\n",
      "  ' that document to Beautiful Soup.' % decoded_markup\n"
     ]
    }
   ],
   "source": [
    "clean_data()"
   ]
  },
  {
   "cell_type": "code",
   "execution_count": 482,
   "metadata": {},
   "outputs": [
    {
     "data": {
      "text/html": [
       "<div>\n",
       "<style scoped>\n",
       "    .dataframe tbody tr th:only-of-type {\n",
       "        vertical-align: middle;\n",
       "    }\n",
       "\n",
       "    .dataframe tbody tr th {\n",
       "        vertical-align: top;\n",
       "    }\n",
       "\n",
       "    .dataframe thead th {\n",
       "        text-align: right;\n",
       "    }\n",
       "</style>\n",
       "<table border=\"1\" class=\"dataframe\">\n",
       "  <thead>\n",
       "    <tr style=\"text-align: right;\">\n",
       "      <th></th>\n",
       "      <th>id</th>\n",
       "      <th>type</th>\n",
       "      <th>is_best_answer</th>\n",
       "      <th>topic_id</th>\n",
       "      <th>parent_id</th>\n",
       "      <th>votes</th>\n",
       "      <th>title</th>\n",
       "      <th>content</th>\n",
       "      <th>member</th>\n",
       "      <th>category</th>\n",
       "      <th>state</th>\n",
       "      <th>is_solved</th>\n",
       "      <th>num_answers</th>\n",
       "      <th>country</th>\n",
       "      <th>date</th>\n",
       "      <th>last_answer_date</th>\n",
       "      <th>author_crc</th>\n",
       "      <th>visits</th>\n",
       "      <th>cleaned_content</th>\n",
       "    </tr>\n",
       "  </thead>\n",
       "  <tbody>\n",
       "    <tr>\n",
       "      <th>3</th>\n",
       "      <td>4</td>\n",
       "      <td>Q</td>\n",
       "      <td>0</td>\n",
       "      <td>4</td>\n",
       "      <td>0</td>\n",
       "      <td>1</td>\n",
       "      <td>Windows Vista to XP Downgrading/Reformat?</td>\n",
       "      <td>Hello \\r \\nI bought a new laptop with Windows ...</td>\n",
       "      <td>0</td>\n",
       "      <td>136</td>\n",
       "      <td>1</td>\n",
       "      <td>1</td>\n",
       "      <td>180</td>\n",
       "      <td>FR</td>\n",
       "      <td>1199900147</td>\n",
       "      <td>1306387514</td>\n",
       "      <td>418598184</td>\n",
       "      <td>4</td>\n",
       "      <td>hello bought new laptop windows vista preinsta...</td>\n",
       "    </tr>\n",
       "    <tr>\n",
       "      <th>4</th>\n",
       "      <td>13</td>\n",
       "      <td>A</td>\n",
       "      <td>0</td>\n",
       "      <td>4</td>\n",
       "      <td>4</td>\n",
       "      <td>0</td>\n",
       "      <td>Windows Vista to XP Downgrading/Reformat?</td>\n",
       "      <td>I do not think that they are lying on that one...</td>\n",
       "      <td>0</td>\n",
       "      <td>136</td>\n",
       "      <td>1</td>\n",
       "      <td>1</td>\n",
       "      <td>180</td>\n",
       "      <td>FR</td>\n",
       "      <td>1199952528</td>\n",
       "      <td>1306387514</td>\n",
       "      <td>1932528411</td>\n",
       "      <td>4</td>\n",
       "      <td>not think lying one downgrading would mean tak...</td>\n",
       "    </tr>\n",
       "    <tr>\n",
       "      <th>5</th>\n",
       "      <td>47</td>\n",
       "      <td>A</td>\n",
       "      <td>0</td>\n",
       "      <td>4</td>\n",
       "      <td>4</td>\n",
       "      <td>-1</td>\n",
       "      <td>Windows Vista to XP Downgrading/Reformat?</td>\n",
       "      <td>Well you can always downgrade from windows Vis...</td>\n",
       "      <td>0</td>\n",
       "      <td>136</td>\n",
       "      <td>1</td>\n",
       "      <td>1</td>\n",
       "      <td>180</td>\n",
       "      <td>\\N</td>\n",
       "      <td>1200476629</td>\n",
       "      <td>1306387514</td>\n",
       "      <td>4185174952</td>\n",
       "      <td>4</td>\n",
       "      <td>well always downgrade windows vista xp but eve...</td>\n",
       "    </tr>\n",
       "    <tr>\n",
       "      <th>6</th>\n",
       "      <td>3062</td>\n",
       "      <td>A</td>\n",
       "      <td>0</td>\n",
       "      <td>4</td>\n",
       "      <td>4</td>\n",
       "      <td>-1</td>\n",
       "      <td>Windows Vista to XP Downgrading/Reformat?</td>\n",
       "      <td>i have j ust  done the same thing on my hp dv6...</td>\n",
       "      <td>0</td>\n",
       "      <td>136</td>\n",
       "      <td>1</td>\n",
       "      <td>1</td>\n",
       "      <td>180</td>\n",
       "      <td>\\N</td>\n",
       "      <td>1206489733</td>\n",
       "      <td>1306387514</td>\n",
       "      <td>489275308</td>\n",
       "      <td>4</td>\n",
       "      <td>j ust done thing hp dv operatingsystem got dri...</td>\n",
       "    </tr>\n",
       "    <tr>\n",
       "      <th>7</th>\n",
       "      <td>3701</td>\n",
       "      <td>A</td>\n",
       "      <td>0</td>\n",
       "      <td>4</td>\n",
       "      <td>4</td>\n",
       "      <td>-1</td>\n",
       "      <td>Windows Vista to XP Downgrading/Reformat?</td>\n",
       "      <td>I have just aquired a brand new HP Pavilion dv...</td>\n",
       "      <td>0</td>\n",
       "      <td>136</td>\n",
       "      <td>1</td>\n",
       "      <td>1</td>\n",
       "      <td>180</td>\n",
       "      <td>\\N</td>\n",
       "      <td>1207091689</td>\n",
       "      <td>1306387514</td>\n",
       "      <td>3188153141</td>\n",
       "      <td>4</td>\n",
       "      <td>aquired brand new hp pavilion dv want run xp n...</td>\n",
       "    </tr>\n",
       "  </tbody>\n",
       "</table>\n",
       "</div>"
      ],
      "text/plain": [
       "     id type is_best_answer topic_id parent_id votes  \\\n",
       "3     4    Q              0        4         0     1   \n",
       "4    13    A              0        4         4     0   \n",
       "5    47    A              0        4         4    -1   \n",
       "6  3062    A              0        4         4    -1   \n",
       "7  3701    A              0        4         4    -1   \n",
       "\n",
       "                                       title  \\\n",
       "3  Windows Vista to XP Downgrading/Reformat?   \n",
       "4  Windows Vista to XP Downgrading/Reformat?   \n",
       "5  Windows Vista to XP Downgrading/Reformat?   \n",
       "6  Windows Vista to XP Downgrading/Reformat?   \n",
       "7  Windows Vista to XP Downgrading/Reformat?   \n",
       "\n",
       "                                             content member category state  \\\n",
       "3  Hello \\r \\nI bought a new laptop with Windows ...      0      136     1   \n",
       "4  I do not think that they are lying on that one...      0      136     1   \n",
       "5  Well you can always downgrade from windows Vis...      0      136     1   \n",
       "6  i have j ust  done the same thing on my hp dv6...      0      136     1   \n",
       "7  I have just aquired a brand new HP Pavilion dv...      0      136     1   \n",
       "\n",
       "  is_solved num_answers country        date last_answer_date  author_crc  \\\n",
       "3         1         180      FR  1199900147       1306387514   418598184   \n",
       "4         1         180      FR  1199952528       1306387514  1932528411   \n",
       "5         1         180      \\N  1200476629       1306387514  4185174952   \n",
       "6         1         180      \\N  1206489733       1306387514   489275308   \n",
       "7         1         180      \\N  1207091689       1306387514  3188153141   \n",
       "\n",
       "  visits                                    cleaned_content  \n",
       "3      4  hello bought new laptop windows vista preinsta...  \n",
       "4      4  not think lying one downgrading would mean tak...  \n",
       "5      4  well always downgrade windows vista xp but eve...  \n",
       "6      4  j ust done thing hp dv operatingsystem got dri...  \n",
       "7      4  aquired brand new hp pavilion dv want run xp n...  "
      ]
     },
     "execution_count": 482,
     "metadata": {},
     "output_type": "execute_result"
    }
   ],
   "source": [
    "df_QA.head()"
   ]
  },
  {
   "cell_type": "code",
   "execution_count": 484,
   "metadata": {},
   "outputs": [
    {
     "data": {
      "text/plain": [
       "<matplotlib.axes._subplots.AxesSubplot at 0xd20673668>"
      ]
     },
     "execution_count": 484,
     "metadata": {},
     "output_type": "execute_result"
    },
    {
     "data": {
      "image/png": "[encoded data removed]",
      "text/plain": [
       "<Figure size 432x288 with 1 Axes>"
      ]
     },
     "metadata": {
      "needs_background": "light"
     },
     "output_type": "display_data"
    }
   ],
   "source": [
    "import seaborn as sns\n",
    "sns.heatmap(df_QA.isnull(), cbar=False) #check for missing data"
   ]
  },
  {
   "cell_type": "code",
   "execution_count": 525,
   "metadata": {},
   "outputs": [],
   "source": [
    "df_QA = df_QA[df_QA['is_best_answer'].isin([0,1])] #take only values with 0 or 1 for is_best_answer"
   ]
  },
  {
   "cell_type": "code",
   "execution_count": 526,
   "metadata": {},
   "outputs": [],
   "source": [
    "#convert id and parent_id column to string\n",
    "df_QA['id'] = df_QA['id'].astype(str)\n",
    "df_QA['parent_id'] = df_QA['parent_id'].astype(str)"
   ]
  },
  {
   "cell_type": "code",
   "execution_count": 553,
   "metadata": {},
   "outputs": [],
   "source": [
    "#create list with all question IDs\n",
    "ids = list(df_QA[df_QA['type']=='Q']['id'])"
   ]
  },
  {
   "cell_type": "code",
   "execution_count": 604,
   "metadata": {},
   "outputs": [
    {
     "data": {
      "text/plain": [
       "47315"
      ]
     },
     "execution_count": 604,
     "metadata": {},
     "output_type": "execute_result"
    }
   ],
   "source": [
    "len(ids)"
   ]
  },
  {
   "cell_type": "code",
   "execution_count": 605,
   "metadata": {},
   "outputs": [],
   "source": [
    "question_answer = {} #create dictionary to store question and corresponding best answer\n",
    "for i in range(len(ids)):\n",
    "    current_set = df_QA[df_QA['id']==ids[i]] #select the next id\n",
    "    question = current_set[current_set['type']=='Q']['cleaned_content'].iloc[0] #define question\n",
    "    \n",
    "    #use answer with value is_best_answer = 1 as best answer, if none, use answer with highest vote\n",
    "    try:\n",
    "        best_answer = df_QA[(df_QA['parent_id']==ids[i])&(df_QA['type']=='A')&(df_QA['is_best_answer']==1)]['cleaned_content'].iloc[0]\n",
    "    except:\n",
    "        best_answer = df_QA[(df_QA['parent_id']==ids[i])&(df_QA['type']=='A')].max()['cleaned_content'] #define best answer (highest vote)\n",
    "    \n",
    "    question_answer.update({question:best_answer})"
   ]
  },
  {
   "cell_type": "code",
   "execution_count": 616,
   "metadata": {},
   "outputs": [],
   "source": [
    "df = pd.DataFrame(question_answer.items(), columns=['Question', 'Answer'])"
   ]
  },
  {
   "cell_type": "code",
   "execution_count": 617,
   "metadata": {},
   "outputs": [
    {
     "data": {
      "text/plain": [
       "<matplotlib.axes._subplots.AxesSubplot at 0xd2edc14e0>"
      ]
     },
     "execution_count": 617,
     "metadata": {},
     "output_type": "execute_result"
    },
    {
     "data": {
      "image/png": "[encoded data removed]",
      "text/plain": [
       "<Figure size 432x288 with 1 Axes>"
      ]
     },
     "metadata": {
      "needs_background": "light"
     },
     "output_type": "display_data"
    }
   ],
   "source": [
    "sns.heatmap(df.isnull(), cbar=False) # show missing values"
   ]
  },
  {
   "cell_type": "code",
   "execution_count": 618,
   "metadata": {},
   "outputs": [],
   "source": [
    "df.dropna(inplace = True) #continue only with data without missing values (could be because there was no answer to question)"
   ]
  },
  {
   "cell_type": "code",
   "execution_count": 619,
   "metadata": {},
   "outputs": [
    {
     "data": {
      "text/plain": [
       "14731"
      ]
     },
     "execution_count": 619,
     "metadata": {},
     "output_type": "execute_result"
    }
   ],
   "source": [
    "len(df) #remaining rows"
   ]
  },
  {
   "cell_type": "code",
   "execution_count": 620,
   "metadata": {},
   "outputs": [],
   "source": [
    "df.to_csv('cleaned_data.csv') #store in csv file"
   ]
  },
  {
   "cell_type": "markdown",
   "metadata": {},
   "source": [
    "# Train Doc2Vec model"
   ]
  },
  {
   "cell_type": "code",
   "execution_count": 621,
   "metadata": {},
   "outputs": [],
   "source": [
    "from sklearn.model_selection import train_test_split\n",
    "X_train, X_test, y_train, y_test = train_test_split(df['Question'], df['Answer'], random_state = 101, test_size = 0.2)"
   ]
  },
  {
   "cell_type": "code",
   "execution_count": 622,
   "metadata": {},
   "outputs": [],
   "source": [
    "#Import all required libraries\n",
    "from gensim.models.doc2vec import Doc2Vec, TaggedDocument\n",
    "from nltk.tokenize import word_tokenize"
   ]
  },
  {
   "cell_type": "code",
   "execution_count": 623,
   "metadata": {},
   "outputs": [],
   "source": [
    "data = list(X_train)"
   ]
  },
  {
   "cell_type": "code",
   "execution_count": 624,
   "metadata": {},
   "outputs": [],
   "source": [
    "tagged_data = [TaggedDocument(words=word_tokenize(_d.lower()), tags=[str(i)]) for i, _d in enumerate(data)]"
   ]
  },
  {
   "cell_type": "code",
   "execution_count": 625,
   "metadata": {
    "scrolled": false
   },
   "outputs": [
    {
     "name": "stdout",
     "output_type": "stream",
     "text": [
      "iteration 0\n"
     ]
    },
    {
     "name": "stderr",
     "output_type": "stream",
     "text": [
      "//anaconda3/lib/python3.7/site-packages/ipykernel_launcher.py:17: DeprecationWarning: Call to deprecated `iter` (Attribute will be removed in 4.0.0, use self.epochs instead).\n",
      "WARNING:gensim.models.base_any2vec:Effective 'alpha' higher than previous training cycles\n"
     ]
    },
    {
     "name": "stdout",
     "output_type": "stream",
     "text": [
      "iteration 1\n",
      "iteration 2\n",
      "iteration 3\n",
      "iteration 4\n",
      "iteration 5\n",
      "iteration 6\n",
      "iteration 7\n",
      "iteration 8\n",
      "iteration 9\n",
      "iteration 10\n",
      "iteration 11\n",
      "iteration 12\n",
      "iteration 13\n",
      "iteration 14\n",
      "iteration 15\n",
      "iteration 16\n",
      "iteration 17\n",
      "iteration 18\n",
      "iteration 19\n",
      "iteration 20\n",
      "iteration 21\n",
      "iteration 22\n",
      "iteration 23\n",
      "iteration 24\n",
      "iteration 25\n",
      "iteration 26\n",
      "iteration 27\n",
      "iteration 28\n",
      "iteration 29\n"
     ]
    }
   ],
   "source": [
    "max_epochs = 30\n",
    "vec_size = 20\n",
    "alpha = 0.025\n",
    "\n",
    "model = Doc2Vec(size=vec_size,\n",
    "                alpha=alpha, \n",
    "                min_alpha=0.00025,\n",
    "                min_count=1,\n",
    "                dm =1)\n",
    "  \n",
    "model.build_vocab(tagged_data)\n",
    "\n",
    "for epoch in range(max_epochs):\n",
    "    print('iteration {0}'.format(epoch))\n",
    "    model.train(tagged_data,\n",
    "                total_examples=model.corpus_count,\n",
    "                epochs=model.iter)\n",
    "    # decrease the learning rate\n",
    "    model.alpha -= 0.0002\n",
    "    # fix the learning rate, no decay\n",
    "    model.min_alpha = model.alpha"
   ]
  },
  {
   "cell_type": "code",
   "execution_count": null,
   "metadata": {},
   "outputs": [],
   "source": []
  },
  {
   "cell_type": "markdown",
   "metadata": {},
   "source": [
    "# Compute the maximum similarity score for each question"
   ]
  },
  {
   "cell_type": "code",
   "execution_count": 626,
   "metadata": {},
   "outputs": [],
   "source": [
    "#define question that takes the answer with the most similar question (based on cosine similarity score)\n",
    "def predict_best_answer (text):\n",
    "    rowindex = int(model.docvecs.most_similar(positive=[model.infer_vector(text.split(' '))],topn=1)[0][0])\n",
    "    answer = y_train.iloc[rowindex]\n",
    "    return(answer)"
   ]
  },
  {
   "cell_type": "code",
   "execution_count": 628,
   "metadata": {},
   "outputs": [],
   "source": [
    "test_df = pd.DataFrame(X_test)"
   ]
  },
  {
   "cell_type": "code",
   "execution_count": 602,
   "metadata": {},
   "outputs": [],
   "source": [
    "test_df['Predicted Answer'] = test_df['Question'].apply(predict_best_answer)"
   ]
  },
  {
   "cell_type": "code",
   "execution_count": 630,
   "metadata": {},
   "outputs": [],
   "source": [
    "test_df.to_csv('final_prediction') #store to csv file"
   ]
  },
  {
   "cell_type": "code",
   "execution_count": null,
   "metadata": {},
   "outputs": [],
   "source": []
  }
 ],
 "metadata": {
  "kernelspec": {
   "display_name": "Python 3",
   "language": "python",
   "name": "python3"
  },
  "language_info": {
   "codemirror_mode": {
    "name": "ipython",
    "version": 3
   },
   "file_extension": ".py",
   "mimetype": "text/x-python",
   "name": "python",
   "nbconvert_exporter": "python",
   "pygments_lexer": "ipython3",
   "version": "3.7.3"
  }
 },
 "nbformat": 4,
 "nbformat_minor": 2
}
